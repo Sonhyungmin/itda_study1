{
  "nbformat": 4,
  "nbformat_minor": 0,
  "metadata": {
    "colab": {
      "name": "백준1단계",
      "provenance": [],
      "authorship_tag": "ABX9TyN0asUG1wz/2hFydy6+NFHn",
      "include_colab_link": true
    },
    "kernelspec": {
      "name": "python3",
      "display_name": "Python 3"
    },
    "language_info": {
      "name": "python"
    }
  },
  "cells": [
    {
      "cell_type": "markdown",
      "metadata": {
        "id": "view-in-github",
        "colab_type": "text"
      },
      "source": [
        "<a href=\"https://colab.research.google.com/github/Sonhyungmin/itda_study1/blob/main/%EB%B0%B1%EC%A4%801%EB%8B%A8%EA%B3%84.ipynb\" target=\"_parent\"><img src=\"https://colab.research.google.com/assets/colab-badge.svg\" alt=\"Open In Colab\"/></a>"
      ]
    },
    {
      "cell_type": "markdown",
      "metadata": {
        "id": "kRHMV9lUpf_1"
      },
      "source": [
        "# 1번"
      ]
    },
    {
      "cell_type": "code",
      "metadata": {
        "colab": {
          "base_uri": "https://localhost:8080/"
        },
        "id": "DDC0VNbxpUJ-",
        "outputId": "168e38be-1cd3-4010-a8a2-65ba627ef4b8"
      },
      "source": [
        "print(\"Hello World!\") ##문자열을 출력하기 위해 print함수를 사용하고 문자열 그대로 출력하기 때문에 \"\"사용."
      ],
      "execution_count": null,
      "outputs": [
        {
          "output_type": "stream",
          "name": "stdout",
          "text": [
            "Hello World!\n"
          ]
        }
      ]
    },
    {
      "cell_type": "markdown",
      "metadata": {
        "id": "prcPW8A6pryl"
      },
      "source": [
        "# 2번"
      ]
    },
    {
      "cell_type": "code",
      "metadata": {
        "colab": {
          "base_uri": "https://localhost:8080/"
        },
        "id": "Tw2TDBcCp2ZH",
        "outputId": "e555125a-8182-4f47-cb63-89bac1ac4074"
      },
      "source": [
        "print(\"강한친구 대한육군\")\n",
        "print(\"강한친구 대한육군\")"
      ],
      "execution_count": null,
      "outputs": [
        {
          "output_type": "stream",
          "name": "stdout",
          "text": [
            "강한친구 대한육군\n",
            "강한친구 대한육군\n"
          ]
        }
      ]
    },
    {
      "cell_type": "markdown",
      "metadata": {
        "id": "SLLlYaonqD61"
      },
      "source": [
        "# 3번"
      ]
    },
    {
      "cell_type": "code",
      "metadata": {
        "colab": {
          "base_uri": "https://localhost:8080/"
        },
        "id": "bUyxJcHIqGpb",
        "outputId": "6ac663e8-4acb-4346-88f0-3b54ac101cd2"
      },
      "source": [
        "print(\"\\\\    /\\\\\")\n",
        "print(\" )  ( ')\")\n",
        "print(\"(  /  )\")\n",
        "print(\" \\\\(__)|\")"
      ],
      "execution_count": null,
      "outputs": [
        {
          "output_type": "stream",
          "name": "stdout",
          "text": [
            "\\    /\\\n",
            " )  ( ')\n",
            "(  /  )\n",
            " \\(__)|\n"
          ]
        }
      ]
    },
    {
      "cell_type": "markdown",
      "metadata": {
        "id": "EjUEDKIvqTs0"
      },
      "source": [
        "# 4번"
      ]
    },
    {
      "cell_type": "code",
      "metadata": {
        "colab": {
          "base_uri": "https://localhost:8080/"
        },
        "id": "hL5tmnIbqTYz",
        "outputId": "5b23737b-ca27-489c-e027-84db29f505b0"
      },
      "source": [
        "dog = \"|\\\\_/|\\n|q p|   /}\\n( 0 )\\\"\\\"\\\"\\\\\\n|\\\"^\\\"`    |\\n||_/=\\\\\\\\__|\\n\"\n",
        "\n",
        "print(dog)"
      ],
      "execution_count": null,
      "outputs": [
        {
          "output_type": "stream",
          "name": "stdout",
          "text": [
            "|\\_/|\n",
            "|q p|   /}\n",
            "( 0 )\"\"\"\\\n",
            "|\"^\"`    |\n",
            "||_/=\\\\__|\n",
            "\n"
          ]
        }
      ]
    },
    {
      "cell_type": "markdown",
      "metadata": {
        "id": "6bQCuNyvtVo-"
      },
      "source": [
        "# 5번"
      ]
    },
    {
      "cell_type": "code",
      "metadata": {
        "colab": {
          "base_uri": "https://localhost:8080/"
        },
        "id": "cJ0cqG8PtbGp",
        "outputId": "98fad869-60f7-47f9-975d-7f8d1c285be3"
      },
      "source": [
        "A, B = list(map(int, input().split()))\n",
        "print(A + B)"
      ],
      "execution_count": null,
      "outputs": [
        {
          "output_type": "stream",
          "name": "stdout",
          "text": [
            "5 8\n",
            "13\n"
          ]
        }
      ]
    },
    {
      "cell_type": "markdown",
      "metadata": {
        "id": "AFxXGEKDx12N"
      },
      "source": [
        "# 6번"
      ]
    },
    {
      "cell_type": "code",
      "metadata": {
        "colab": {
          "base_uri": "https://localhost:8080/"
        },
        "id": "4aZHuw30x3Ru",
        "outputId": "bc8b65ad-b15f-481d-a783-aa33e2a65c74"
      },
      "source": [
        "A, B = list(map(int, input().split()))\n",
        "print(A - B)"
      ],
      "execution_count": null,
      "outputs": [
        {
          "output_type": "stream",
          "name": "stdout",
          "text": [
            "88 9\n",
            "79\n"
          ]
        }
      ]
    },
    {
      "cell_type": "markdown",
      "metadata": {
        "id": "EJ2z2HzrycrE"
      },
      "source": [
        "# 7번"
      ]
    },
    {
      "cell_type": "code",
      "metadata": {
        "colab": {
          "base_uri": "https://localhost:8080/"
        },
        "id": "08_TEhFryek4",
        "outputId": "cab0a39e-2781-455a-e919-2b6bd68510e7"
      },
      "source": [
        "A, B = list(map(int, input().split()))\n",
        "print(A * B)"
      ],
      "execution_count": null,
      "outputs": [
        {
          "output_type": "stream",
          "name": "stdout",
          "text": [
            "3 8\n",
            "24\n"
          ]
        }
      ]
    },
    {
      "cell_type": "markdown",
      "metadata": {
        "id": "B1jHsxMlyPd_"
      },
      "source": [
        "# 8번"
      ]
    },
    {
      "cell_type": "code",
      "metadata": {
        "colab": {
          "base_uri": "https://localhost:8080/"
        },
        "id": "p_pTY7dMyRkH",
        "outputId": "7f94c92a-fc9c-495e-8993-3926e71b9858"
      },
      "source": [
        "A, B = list(map(int, input().split()))\n",
        "print(A / B)"
      ],
      "execution_count": null,
      "outputs": [
        {
          "output_type": "stream",
          "name": "stdout",
          "text": [
            "88 8\n",
            "11.0\n"
          ]
        }
      ]
    },
    {
      "cell_type": "markdown",
      "metadata": {
        "id": "4CTNh0ZhyyCU"
      },
      "source": [
        "# 9번"
      ]
    },
    {
      "cell_type": "code",
      "metadata": {
        "colab": {
          "base_uri": "https://localhost:8080/"
        },
        "id": "toUJ5Wudy2bl",
        "outputId": "86d8b598-1332-4664-e56e-963c30b44f7c"
      },
      "source": [
        "A, B = list(map(int, input().split()))\n",
        "\n",
        "print(A + B)\n",
        "print(A - B)\n",
        "print(A * B)\n",
        "print(A // B) ## 예제 보면 나누기가 아니라 나누기를 한 후 정수 부분의 수만 구한걸로 봐선 // 연산자를 사용해야함\n",
        "print(A % B)"
      ],
      "execution_count": null,
      "outputs": [
        {
          "output_type": "stream",
          "name": "stdout",
          "text": [
            "44 18\n",
            "62\n",
            "26\n",
            "792\n",
            "2\n",
            "8\n"
          ]
        }
      ]
    },
    {
      "cell_type": "markdown",
      "metadata": {
        "id": "DSAk4Ga40gLB"
      },
      "source": [
        "# 10번"
      ]
    },
    {
      "cell_type": "code",
      "metadata": {
        "colab": {
          "base_uri": "https://localhost:8080/"
        },
        "id": "O98wUjBu0kPa",
        "outputId": "7aa99ee4-5edd-4741-9b0a-c3dfb09bffc9"
      },
      "source": [
        "A, B, C = list(map(int, input().split()))\n",
        "\n",
        "print((A+B)%C)\n",
        "print(((A%C) + (B%C))%C)\n",
        "print((A*B)%C)\n",
        "print( ((A%C) * (B%C))%C)"
      ],
      "execution_count": null,
      "outputs": [
        {
          "output_type": "stream",
          "name": "stdout",
          "text": [
            "5 8 4\n",
            "1\n",
            "1\n",
            "0\n",
            "0\n"
          ]
        }
      ]
    },
    {
      "cell_type": "markdown",
      "metadata": {
        "id": "Yu-6sLHz2mNd"
      },
      "source": [
        "# 11번"
      ]
    },
    {
      "cell_type": "code",
      "metadata": {
        "colab": {
          "base_uri": "https://localhost:8080/"
        },
        "id": "8u56Bsj62oWp",
        "outputId": "69b66d8c-1425-4355-bbe1-c5697e959600"
      },
      "source": [
        "a = int(input())\n",
        "b = input()\n",
        "num0 = a * int(b[2])\n",
        "num1 = a * int(b[1])\n",
        "num2 = a * int(b[0])\n",
        "num = a * int(b)\n",
        "\n",
        "print(num0)\n",
        "print(num1)\n",
        "print(num2)\n",
        "print(num)"
      ],
      "execution_count": null,
      "outputs": [
        {
          "output_type": "stream",
          "name": "stdout",
          "text": [
            "472\n",
            "385\n",
            "2360\n",
            "3776\n",
            "1416\n",
            "181720\n"
          ]
        }
      ]
    },
    {
      "cell_type": "markdown",
      "metadata": {
        "id": "BMj6bAnO31CO"
      },
      "source": [
        ""
      ]
    },
    {
      "cell_type": "markdown",
      "metadata": {
        "id": "MMzXKJz2tX2n"
      },
      "source": [
        ""
      ]
    }
  ]
}