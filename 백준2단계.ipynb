{
  "nbformat": 4,
  "nbformat_minor": 0,
  "metadata": {
    "colab": {
      "name": "백준2단계",
      "provenance": [],
      "authorship_tag": "ABX9TyPfDGTHKF2pYrXgzeTs7GWF",
      "include_colab_link": true
    },
    "kernelspec": {
      "name": "python3",
      "display_name": "Python 3"
    },
    "language_info": {
      "name": "python"
    }
  },
  "cells": [
    {
      "cell_type": "markdown",
      "metadata": {
        "id": "view-in-github",
        "colab_type": "text"
      },
      "source": [
        "<a href=\"https://colab.research.google.com/github/Sonhyungmin/itda_study1/blob/main/%EB%B0%B1%EC%A4%802%EB%8B%A8%EA%B3%84.ipynb\" target=\"_parent\"><img src=\"https://colab.research.google.com/assets/colab-badge.svg\" alt=\"Open In Colab\"/></a>"
      ]
    },
    {
      "cell_type": "markdown",
      "metadata": {
        "id": "2KkC2QN0BlMV"
      },
      "source": [
        "#1번"
      ]
    },
    {
      "cell_type": "code",
      "metadata": {
        "id": "1rY5D8Vh-qOY",
        "colab": {
          "base_uri": "https://localhost:8080/"
        },
        "outputId": "ac7ec477-1fed-46b5-b446-28607b7ee3e4"
      },
      "source": [
        "A, B = list(map(int, input().split()))\n",
        "\n",
        "if A > B:\n",
        "  print(\">\")\n",
        "elif A < B:\n",
        "  print(\"<\")\n",
        "else:\n",
        "  print(\"==\")"
      ],
      "execution_count": null,
      "outputs": [
        {
          "output_type": "stream",
          "name": "stdout",
          "text": [
            "-770 1\n",
            "<\n"
          ]
        }
      ]
    },
    {
      "cell_type": "markdown",
      "metadata": {
        "id": "tKp8pdPiGtsd"
      },
      "source": [
        "#2번"
      ]
    },
    {
      "cell_type": "code",
      "metadata": {
        "colab": {
          "base_uri": "https://localhost:8080/"
        },
        "id": "d66mz8Q4Gshi",
        "outputId": "a596374d-b0dc-4f67-b8b1-5c62b3b92919"
      },
      "source": [
        "score = int(input())\n",
        "\n",
        "if score >= 90: grade = 'A'\n",
        "elif score >= 80:\n",
        "    grade = 'B'\n",
        "elif score >= 70:\n",
        "    grade = 'C'\n",
        "elif score >= 60:\n",
        "    grade = 'D'\n",
        "else:\n",
        "    grade = 'F'\n",
        "    \n",
        "print(grade)"
      ],
      "execution_count": null,
      "outputs": [
        {
          "output_type": "stream",
          "name": "stdout",
          "text": [
            "100\n",
            "A\n"
          ]
        }
      ]
    },
    {
      "cell_type": "markdown",
      "metadata": {
        "id": "bGrTKGTRJGf9"
      },
      "source": [
        "#3번"
      ]
    },
    {
      "cell_type": "code",
      "metadata": {
        "colab": {
          "base_uri": "https://localhost:8080/"
        },
        "id": "xJLFdHVuJJHk",
        "outputId": "9f91a3b0-7017-4c90-c41b-9545bc1e0678"
      },
      "source": [
        "year = int(input())\n",
        "\n",
        "if (year % 4 == 0 and year % 100 != 0):\n",
        "  print(1)\n",
        "elif year % 400 == 0:\n",
        "  print(1)\n",
        "else:\n",
        "  print(0)"
      ],
      "execution_count": null,
      "outputs": [
        {
          "output_type": "stream",
          "name": "stdout",
          "text": [
            "2000\n",
            "1\n"
          ]
        }
      ]
    },
    {
      "cell_type": "markdown",
      "metadata": {
        "id": "GsdF6OTJNNWF"
      },
      "source": [
        "#4번"
      ]
    },
    {
      "cell_type": "code",
      "metadata": {
        "colab": {
          "base_uri": "https://localhost:8080/"
        },
        "id": "kbvk9Kb1NOtH",
        "outputId": "c47cb0f7-8764-4faf-9d45-3e0b5a6e0908"
      },
      "source": [
        "x = int(input())\n",
        "y = int(input())\n",
        "\n",
        "if x>0 and y>0:\n",
        "  print(1)\n",
        "elif x<0 and y>0:\n",
        "  print(2)\n",
        "elif x<0 and y<0:\n",
        "  print(3)\n",
        "else: \n",
        "  print(4)"
      ],
      "execution_count": null,
      "outputs": [
        {
          "output_type": "stream",
          "name": "stdout",
          "text": [
            "-4\n",
            "9\n",
            "2\n"
          ]
        }
      ]
    },
    {
      "cell_type": "markdown",
      "metadata": {
        "id": "kp2ZXqtpPmTE"
      },
      "source": [
        "#5번"
      ]
    },
    {
      "cell_type": "code",
      "metadata": {
        "colab": {
          "base_uri": "https://localhost:8080/"
        },
        "id": "XDABRRhjPnhk",
        "outputId": "6c43531b-3932-48a1-c86f-8694502efa6c"
      },
      "source": [
        "H, M = list(map(int, input().split()))\n",
        "if M >= 45:\n",
        "  M = M - 45\n",
        "elif M == 45:\n",
        "  M = 0\n",
        "else:\n",
        "  M = M +15\n",
        "  if H == 0:\n",
        "    H = 23\n",
        "  else:\n",
        "    H = H - 1\n",
        "print(H, M)"
      ],
      "execution_count": null,
      "outputs": [
        {
          "output_type": "stream",
          "name": "stdout",
          "text": [
            "0 30\n",
            "23 45\n"
          ]
        }
      ]
    }
  ]
}