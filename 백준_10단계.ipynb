{
  "nbformat": 4,
  "nbformat_minor": 0,
  "metadata": {
    "colab": {
      "name": "백준_10단계",
      "provenance": [],
      "authorship_tag": "ABX9TyO3O4qmAzjUIdrFXMkcAjCZ",
      "include_colab_link": true
    },
    "kernelspec": {
      "name": "python3",
      "display_name": "Python 3"
    },
    "language_info": {
      "name": "python"
    }
  },
  "cells": [
    {
      "cell_type": "markdown",
      "metadata": {
        "id": "view-in-github",
        "colab_type": "text"
      },
      "source": [
        "<a href=\"https://colab.research.google.com/github/Sonhyungmin/itda_study1/blob/main/%EB%B0%B1%EC%A4%80_10%EB%8B%A8%EA%B3%84.ipynb\" target=\"_parent\"><img src=\"https://colab.research.google.com/assets/colab-badge.svg\" alt=\"Open In Colab\"/></a>"
      ]
    },
    {
      "cell_type": "markdown",
      "source": [
        "# 1번"
      ],
      "metadata": {
        "id": "u6_M2au_OYRg"
      }
    },
    {
      "cell_type": "code",
      "execution_count": 1,
      "metadata": {
        "colab": {
          "base_uri": "https://localhost:8080/"
        },
        "id": "Z4CUDuM7OJ06",
        "outputId": "065f0079-2fea-49c5-a8ff-0cdc529ccdd5"
      },
      "outputs": [
        {
          "output_type": "stream",
          "name": "stdout",
          "text": [
            "10\n",
            "3628800\n"
          ]
        }
      ],
      "source": [
        "n = int(input())\n",
        "result = 1\n",
        "for i in range(1, n+1):\n",
        "  result = result * i\n",
        "\n",
        "print(result )"
      ]
    },
    {
      "cell_type": "code",
      "source": [
        "def factorial(n):\n",
        "    result = 1\n",
        "    if n > 0 :\n",
        "        result = n * factorial(n-1)\n",
        "    return result\n",
        "\n",
        "n = int(input())\n",
        "print(factorial(n))"
      ],
      "metadata": {
        "colab": {
          "base_uri": "https://localhost:8080/"
        },
        "id": "umXd1mX1Tg_x",
        "outputId": "8bf881c2-40a2-4d4c-a38d-d002244990bc"
      },
      "execution_count": 5,
      "outputs": [
        {
          "output_type": "stream",
          "name": "stdout",
          "text": [
            "10\n",
            "3628800\n"
          ]
        }
      ]
    },
    {
      "cell_type": "markdown",
      "source": [
        "#2번"
      ],
      "metadata": {
        "id": "tDblnLpoObUP"
      }
    },
    {
      "cell_type": "code",
      "source": [
        "n = int(input())\n",
        "fi = [0, 1]\n",
        "for i in range(2, n+1):\n",
        "    num = fi[i-1] + fi[i-2]\n",
        "    fi.append(num)\n",
        "print(fi[n])"
      ],
      "metadata": {
        "colab": {
          "base_uri": "https://localhost:8080/"
        },
        "id": "l8BrgsmlOchZ",
        "outputId": "2393d778-fe21-45f9-cf8d-9a48761312a4"
      },
      "execution_count": 2,
      "outputs": [
        {
          "output_type": "stream",
          "name": "stdout",
          "text": [
            "10\n",
            "55\n"
          ]
        }
      ]
    },
    {
      "cell_type": "code",
      "source": [
        "def fi(n):\n",
        "    if n <= 1:\n",
        "        return n\n",
        "    return fi(n-1) + fi(n-2)\n",
        "\n",
        "n = int(input())\n",
        "print(fi(n))"
      ],
      "metadata": {
        "colab": {
          "base_uri": "https://localhost:8080/"
        },
        "id": "Wgnw78ZGQFtd",
        "outputId": "4d18d969-d507-4f25-cf05-652098bd5ba8"
      },
      "execution_count": 4,
      "outputs": [
        {
          "output_type": "stream",
          "name": "stdout",
          "text": [
            "10\n",
            "55\n"
          ]
        }
      ]
    },
    {
      "cell_type": "markdown",
      "source": [
        "#3번"
      ],
      "metadata": {
        "id": "wb_kItwrOc7U"
      }
    },
    {
      "cell_type": "code",
      "source": [
        "def get_stars(n):\n",
        "    matrix = []\n",
        "    for i in range(3 * len(n)):\n",
        "        if i // len(n) == 1:\n",
        "            matrix.append(n[i % len(n)] + \" \" * len(n) + n[i % len(n)])\n",
        "        else:\n",
        "            matrix.append(n[i % len(n)] * 3)\n",
        "    return matrix\n",
        " \n",
        " \n",
        "star = [\"***\", \"* *\", \"***\"]\n",
        "n = int(input())\n",
        "e = 0\n",
        "while n != 3:\n",
        "    n = int(n / 3)\n",
        "    e += 1\n",
        " \n",
        "for i in range(e):\n",
        "    star = get_stars(star)\n",
        "for i in star:\n",
        "    print(i)"
      ],
      "metadata": {
        "colab": {
          "base_uri": "https://localhost:8080/"
        },
        "id": "0Bl4NTBzOdv3",
        "outputId": "d11c03de-5971-4625-b5fa-7e0fa35d480f"
      },
      "execution_count": 9,
      "outputs": [
        {
          "output_type": "stream",
          "name": "stdout",
          "text": [
            "27\n",
            "***************************\n",
            "* ** ** ** ** ** ** ** ** *\n",
            "***************************\n",
            "***   ******   ******   ***\n",
            "* *   * ** *   * ** *   * *\n",
            "***   ******   ******   ***\n",
            "***************************\n",
            "* ** ** ** ** ** ** ** ** *\n",
            "***************************\n",
            "*********         *********\n",
            "* ** ** *         * ** ** *\n",
            "*********         *********\n",
            "***   ***         ***   ***\n",
            "* *   * *         * *   * *\n",
            "***   ***         ***   ***\n",
            "*********         *********\n",
            "* ** ** *         * ** ** *\n",
            "*********         *********\n",
            "***************************\n",
            "* ** ** ** ** ** ** ** ** *\n",
            "***************************\n",
            "***   ******   ******   ***\n",
            "* *   * ** *   * ** *   * *\n",
            "***   ******   ******   ***\n",
            "***************************\n",
            "* ** ** ** ** ** ** ** ** *\n",
            "***************************\n"
          ]
        }
      ]
    },
    {
      "cell_type": "markdown",
      "source": [
        "#4번"
      ],
      "metadata": {
        "id": "Q-ASJBowOeOS"
      }
    },
    {
      "cell_type": "code",
      "source": [
        "def hanoi(n, start_col, end_col, between_col):\n",
        "    if n == 1:\n",
        "        print(start_col, end=' ')\n",
        "        print(end_col)\n",
        "        return\n",
        "    hanoi(n - 1, start_col, between_col, end_col)\n",
        "    print(start_col, end=' ')\n",
        "    print(end_col)\n",
        "    hanoi(n - 1, between_col, end_col, start_col)\n",
        " \n",
        "N = int(input())\n",
        "k = 2 ** N - 1\n",
        "print(k)\n",
        "hanoi(N, 1, 3, 2)"
      ],
      "metadata": {
        "colab": {
          "base_uri": "https://localhost:8080/"
        },
        "id": "-QXwgCpOOfRs",
        "outputId": "101f3ddf-9f06-47d0-f81a-eb7e26a1e27f"
      },
      "execution_count": 7,
      "outputs": [
        {
          "output_type": "stream",
          "name": "stdout",
          "text": [
            "3\n",
            "7\n",
            "1 3\n",
            "1 2\n",
            "3 2\n",
            "1 3\n",
            "2 1\n",
            "2 3\n",
            "1 3\n"
          ]
        }
      ]
    }
  ]
}