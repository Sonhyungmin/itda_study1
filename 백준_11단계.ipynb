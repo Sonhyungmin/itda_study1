{
  "nbformat": 4,
  "nbformat_minor": 0,
  "metadata": {
    "colab": {
      "name": "백준_11단계",
      "provenance": [],
      "authorship_tag": "ABX9TyMBr3mKRkAs9RgiMzDDtkPV",
      "include_colab_link": true
    },
    "kernelspec": {
      "name": "python3",
      "display_name": "Python 3"
    },
    "language_info": {
      "name": "python"
    }
  },
  "cells": [
    {
      "cell_type": "markdown",
      "metadata": {
        "id": "view-in-github",
        "colab_type": "text"
      },
      "source": [
        "<a href=\"https://colab.research.google.com/github/Sonhyungmin/itda_study1/blob/main/%EB%B0%B1%EC%A4%80_11%EB%8B%A8%EA%B3%84.ipynb\" target=\"_parent\"><img src=\"https://colab.research.google.com/assets/colab-badge.svg\" alt=\"Open In Colab\"/></a>"
      ]
    },
    {
      "cell_type": "markdown",
      "source": [
        "#1번"
      ],
      "metadata": {
        "id": "_USwAjYr9h64"
      }
    },
    {
      "cell_type": "code",
      "execution_count": null,
      "metadata": {
        "id": "QRY8q51F8oqi",
        "colab": {
          "base_uri": "https://localhost:8080/"
        },
        "outputId": "b9f50491-7c14-4666-b9fc-b314b783fa58"
      },
      "outputs": [
        {
          "output_type": "stream",
          "name": "stdout",
          "text": [
            "5 21\n",
            "5 6 7 8 9\n",
            "21\n"
          ]
        }
      ],
      "source": [
        "n, m = map(int, input().split())\n",
        "number_n = list(map(int, input().split()))\n",
        "sum_n = []\n",
        "for i in range(n):\n",
        "  for o in range(i+1, n):\n",
        "    for p in range(o+1, n):\n",
        "      sum = number_n[i] + number_n[o] + number_n[p]\n",
        "      if sum <= m:\n",
        "        sum_n.append(sum)\n",
        "print(max(sum_n))"
      ]
    },
    {
      "cell_type": "code",
      "source": [
        "num, max_num  = map(int,input().split())\n",
        "deck = list(map(int, input().split()))\n",
        "re = 0\n",
        "for i in range(0, num - 2):\n",
        "    for j in range(i + 1,num - 1):\n",
        "        for k in range(j + 1, num):\n",
        "            if deck[i] + deck[j] + deck[k] <= max_num:\n",
        "                re = max(re, deck[i] + deck[j] + deck[k]) # max함수 써서 re랑 deck[i] + deck[j] + deck[k]중에 더 큰 값을 re에 저장\n",
        "print(re)"
      ],
      "metadata": {
        "colab": {
          "base_uri": "https://localhost:8080/"
        },
        "id": "gKmP6EY1Jvd_",
        "outputId": "bcf26e5c-0e4a-4165-f8f0-db7d4dc3f9be"
      },
      "execution_count": null,
      "outputs": [
        {
          "output_type": "stream",
          "name": "stdout",
          "text": [
            "5 21\n",
            "5 6 7 8 9\n",
            "21\n"
          ]
        }
      ]
    },
    {
      "cell_type": "markdown",
      "source": [
        "#2번"
      ],
      "metadata": {
        "id": "VAdTdvkr9k8s"
      }
    },
    {
      "cell_type": "code",
      "source": [
        "n = int(input())\n",
        "main = 0\n",
        "for i in range(1, n+1):\n",
        "  base = sum(map(int, str(i)) )# map(int, str(n)) : 문자열로 되어있는 각 자릿수를 정수로 바꿔\n",
        "  number = i + base\n",
        "  if number == n:\n",
        "    main = i\n",
        "\n",
        "print(main)"
      ],
      "metadata": {
        "colab": {
          "base_uri": "https://localhost:8080/"
        },
        "id": "m8MGuh4n9mDH",
        "outputId": "ac49538d-384d-43c5-a517-cc2637c8082a"
      },
      "execution_count": null,
      "outputs": [
        {
          "output_type": "stream",
          "name": "stdout",
          "text": [
            "256\n",
            "245\n"
          ]
        }
      ]
    },
    {
      "cell_type": "code",
      "source": [
        "n = int(input())\n",
        "main = 0\n",
        "for i in range(1, n+1):\n",
        "  base = sum(map(int, str(i)) )# map(int, str(n)) : 문자열로 되어있는 각 자릿수를 정수로 바꿔\n",
        "  number = i + base\n",
        "  if number == n:\n",
        "    main = i\n",
        "    break\n",
        "\n",
        "print(main)"
      ],
      "metadata": {
        "id": "x3gDbLkaGjfX"
      },
      "execution_count": null,
      "outputs": []
    },
    {
      "cell_type": "markdown",
      "source": [
        "#3번"
      ],
      "metadata": {
        "id": "_EPlUXFl9mWY"
      }
    },
    {
      "cell_type": "code",
      "source": [
        "N = int(input())\n",
        "\n",
        "people = []\n",
        "for _ in range(N):\n",
        "    w, h = map(int, input().split())\n",
        "    people.append((w, h))\n",
        "\n",
        "for c in people : #0\n",
        "    rank = 1 #1 \n",
        "    \n",
        "    for n in people:\n",
        "        if (c[0]!=n[0]) & (c[1]!=n[1]): #2  \n",
        "            if (c[0]<n[0]) & (c[1]<n[1]): #3 w, h 모두 큰 경우\n",
        "                rank += 1\n",
        "            \n",
        "    print(rank)\n",
        "#0 : c는 현재 사람, n은 다음 사람\n",
        "#1 : 나보다 덩치 큰 사람 수 + 1\n",
        "#2 : 자신을 제외하고 비교\n",
        "#3 : c[0], n[0]은 몸무게, c[1], n[1]은 키\n"
      ],
      "metadata": {
        "id": "BtajmXZd9qTn",
        "colab": {
          "base_uri": "https://localhost:8080/"
        },
        "outputId": "f8f6d8ac-2c2b-4921-ec4f-d8a35dd1c275"
      },
      "execution_count": 3,
      "outputs": [
        {
          "output_type": "stream",
          "name": "stdout",
          "text": [
            "5\n",
            "55 185\n",
            "58 183\n",
            "88 186\n",
            "60 175\n",
            "46 155\n",
            "2\n",
            "2\n",
            "1\n",
            "2\n",
            "5\n"
          ]
        }
      ]
    },
    {
      "cell_type": "code",
      "source": [
        "num_student = int(input())\n",
        "student_list = []\n",
        "\n",
        "for _ in range(num_student):\n",
        "    weight, height = map(int, input().split())\n",
        "    student_list.append((weight, height))\n",
        "\n",
        "for i in student_list:\n",
        "    rank = 1\n",
        "    for j in student_list:\n",
        "        if i[0] < j[0] and i[1] < j[1]:\n",
        "                rank += 1\n",
        "    print(rank, end = \" \")"
      ],
      "metadata": {
        "colab": {
          "base_uri": "https://localhost:8080/"
        },
        "id": "86zAiwusVnRe",
        "outputId": "ab5720f4-a449-4694-dc2d-c99c5493d5d0"
      },
      "execution_count": 4,
      "outputs": [
        {
          "output_type": "stream",
          "name": "stdout",
          "text": [
            "5\n",
            "55 185\n",
            "58 183\n",
            "88 186\n",
            "46 155\n",
            "60 175\n",
            "2 2 1 5 2 "
          ]
        }
      ]
    },
    {
      "cell_type": "markdown",
      "source": [
        "#4번"
      ],
      "metadata": {
        "id": "ilzw6WUX9qoA"
      }
    },
    {
      "cell_type": "code",
      "source": [
        "n, m = map(int, input().split())\n",
        "l = []\n",
        "mini = []\n",
        "\n",
        "for _ in range(n):\n",
        "    l.append(input())\n",
        "\n",
        "for a in range(n - 7):\n",
        "    for i in range(m - 7):\n",
        "        idx1 = 0\n",
        "        idx2 = 0\n",
        "        for b in range(a, a + 8):\n",
        "            for j in range(i, i + 8):              # 8X8 범위를 B와 W로 번갈아가면서 검사\n",
        "                if (j + b)%2 == 0:\n",
        "                    if l[b][j] != 'W': idx1 += 1  \n",
        "                    if l[b][j] != 'B': idx2 += 1\n",
        "                else :\n",
        "                    if l[b][j] != 'B': idx1 += 1\n",
        "                    if l[b][j] != 'W': idx2 += 1\n",
        "        mini.append(idx1)                          # W로 시작했을 때 칠해야 할 부분\n",
        "        mini.append(idx2)                          # B로 시작했을 때 칠해야 할 부분\n",
        "\n",
        "print(min(mini))                                   # 칠해야 하는 개수의 최소값"
      ],
      "metadata": {
        "id": "sPt2-bQl9rf-",
        "colab": {
          "base_uri": "https://localhost:8080/"
        },
        "outputId": "5ea244ff-4b95-4d09-97cf-f752643019b6"
      },
      "execution_count": 5,
      "outputs": [
        {
          "output_type": "stream",
          "name": "stdout",
          "text": [
            "8 8\n",
            "WBWBWBWB\n",
            "BWBWBWBW\n",
            "WBWBWBWB\n",
            "BWBBBWBW\n",
            "WBWBWBWB\n",
            "BWBWBWBW\n",
            "WBWBWBWB\n",
            "BWBWBWBW\n",
            "1\n"
          ]
        }
      ]
    },
    {
      "cell_type": "markdown",
      "source": [
        "#5번"
      ],
      "metadata": {
        "id": "LornfAG99r2Z"
      }
    },
    {
      "cell_type": "code",
      "source": [
        "n = int(input())\n",
        "s = 666\n",
        "count = 0\n",
        "while True:\n",
        "  if '666' in str(s):\n",
        "    count += 1\n",
        "  if count == n:\n",
        "    print(s)\n",
        "    break\n",
        "  s += 1"
      ],
      "metadata": {
        "id": "_5F9Oveb9szi",
        "colab": {
          "base_uri": "https://localhost:8080/"
        },
        "outputId": "0475dc4c-b411-4353-be82-54704c86732e"
      },
      "execution_count": null,
      "outputs": [
        {
          "output_type": "stream",
          "name": "stdout",
          "text": [
            "187\n",
            "66666\n"
          ]
        }
      ]
    }
  ]
}