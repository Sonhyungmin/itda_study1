{
  "nbformat": 4,
  "nbformat_minor": 0,
  "metadata": {
    "colab": {
      "name": "백준_12단계",
      "provenance": [],
      "authorship_tag": "ABX9TyOqW7j3vVqwd2Pb8sR1VAnW",
      "include_colab_link": true
    },
    "kernelspec": {
      "name": "python3",
      "display_name": "Python 3"
    },
    "language_info": {
      "name": "python"
    }
  },
  "cells": [
    {
      "cell_type": "markdown",
      "metadata": {
        "id": "view-in-github",
        "colab_type": "text"
      },
      "source": [
        "<a href=\"https://colab.research.google.com/github/Sonhyungmin/itda_study1/blob/main/%EB%B0%B1%EC%A4%80_12%EB%8B%A8%EA%B3%84.ipynb\" target=\"_parent\"><img src=\"https://colab.research.google.com/assets/colab-badge.svg\" alt=\"Open In Colab\"/></a>"
      ]
    },
    {
      "cell_type": "markdown",
      "source": [
        "# 1번"
      ],
      "metadata": {
        "id": "RZxsZ08RQoWm"
      }
    },
    {
      "cell_type": "code",
      "execution_count": null,
      "metadata": {
        "colab": {
          "base_uri": "https://localhost:8080/"
        },
        "id": "nFopou3BO3nf",
        "outputId": "58c58fec-4998-4059-abd7-52a429c3fb8c"
      },
      "outputs": [
        {
          "output_type": "stream",
          "name": "stdout",
          "text": [
            "3\n",
            "5\n",
            "1\n",
            "3\n",
            "1\n",
            "3\n",
            "5\n"
          ]
        }
      ],
      "source": [
        "n = int(input())\n",
        "numbers = []\n",
        "for i in range(n):\n",
        "  num = int(input())\n",
        "  numbers.append(num)\n",
        "\n",
        "numbers.sort()\n",
        "\n",
        "for _ in numbers[:]:\n",
        "  print(_)"
      ]
    },
    {
      "cell_type": "markdown",
      "source": [
        "# 2"
      ],
      "metadata": {
        "id": "18JtHNNVUGi9"
      }
    },
    {
      "cell_type": "code",
      "source": [
        "n = int(input())\n",
        "numbers = []\n",
        "for i in range(n):\n",
        "  num = int(input())\n",
        "  numbers.append(num)\n",
        "\n",
        "numbers.sort()\n",
        "# sort(), sort(reverse=False)가 오름차순으로 정렬되고\n",
        "# sort(reverse=True)가 리스트를 내림차순으로 정렬\n",
        "\n",
        "print(*numbers, sep='\\n') # *를 사용해서 unpacking한 데이터로 전달해야 sep를 적용"
      ],
      "metadata": {
        "colab": {
          "base_uri": "https://localhost:8080/"
        },
        "id": "4Jlqow15TFRK",
        "outputId": "f8588555-e280-42f9-cd74-c5e70e01d2e4"
      },
      "execution_count": null,
      "outputs": [
        {
          "output_type": "stream",
          "name": "stdout",
          "text": [
            "3\n",
            "5\n",
            "1\n",
            "9\n",
            "1\n",
            "5\n",
            "9\n"
          ]
        }
      ]
    },
    {
      "cell_type": "markdown",
      "source": [
        "# 3\n",
        "\n",
        "카운팅 정렬의 특징\n",
        "\n",
        "장점\n",
        "\n",
        "  - 선형 시간에 정렬이 가능하다.\n",
        "  - 정수로 표현할 수 있고, 값 사이의 차이가 크지 않을 경우 사용하기 좋다.\n",
        "\n",
        "단점\n",
        "\n",
        "  - 제한 사항이 많다.\n",
        "  - 정수나, 정수로 표현할 수 있는 자료에 대해서만 적용 가능하다.\n",
        "  - 각 항목의 발생 횟수를 기록해야 하기 때문에 정수로 인덱스 되는 카운트들의 배열을 사용한다.\n",
        "  - 카운트를 위한 충분한 공간을 할당하기 위해서는 집합 내의 가장 큰 정수를 알아야한다.\n"
      ],
      "metadata": {
        "id": "wIPoH5CmXzej"
      }
    },
    {
      "cell_type": "code",
      "source": [
        "# 카운팅 정렬\n",
        "def counting_sort(numbers, count, result):\n",
        "    for i in numbers:\n",
        "        count[i] += 1   # numbers 요소의 출현 횟수\n",
        "    \n",
        "    for i in range(len(count)-1):\n",
        "        count[i+1] += count[i]  # 누적 count\n",
        "\n",
        "    for i in range(len(numbers)-1, -1, -1):\n",
        "        result[count[numbers[i]] - 1] = numbers[i]\n",
        "        count[numbers[i]] -= 1\n",
        "\n",
        "\n",
        "n = int(input())\n",
        "numbers = []\n",
        "for i in range(n):\n",
        "  num = int(input())\n",
        "  numbers.append(num)\n",
        "count = [0 for _ in range(max(numbers)+1)]   # 최댓값\n",
        "result = [0 for _ in range(len(numbers))]  # numbers 길이만큼\n",
        "counting_sort(numbers, count, result)\n",
        "print(*result, sep='\\n')"
      ],
      "metadata": {
        "colab": {
          "base_uri": "https://localhost:8080/"
        },
        "id": "fv1KyYJbX0QI",
        "outputId": "3eb8e69b-9c10-485a-cac2-fc034bbb4b89"
      },
      "execution_count": null,
      "outputs": [
        {
          "output_type": "stream",
          "name": "stdout",
          "text": [
            "4\n",
            "3\n",
            "1\n",
            "1\n",
            "9\n",
            "1\n",
            "1\n",
            "3\n",
            "9\n"
          ]
        }
      ]
    },
    {
      "cell_type": "code",
      "source": [
        "import sys\n",
        "\n",
        "n = int(sys.stdin.readline())\n",
        "num_list = [0] * 10001\n",
        "\n",
        "for _ in range(n):\n",
        "    num_list[int(sys.stdin.readline())] += 1\n",
        "\n",
        "for i in range(10001):\n",
        "    if num_list[i] != 0:\n",
        "        for j in range(num_list[i]):\n",
        "            print(i)"
      ],
      "metadata": {
        "colab": {
          "base_uri": "https://localhost:8080/",
          "height": 245
        },
        "id": "3gtE9KGMj1_U",
        "outputId": "328de8a9-b266-4c31-a93c-18bd45766faa"
      },
      "execution_count": null,
      "outputs": [
        {
          "output_type": "error",
          "ename": "ValueError",
          "evalue": "ignored",
          "traceback": [
            "\u001b[0;31m---------------------------------------------------------------------------\u001b[0m",
            "\u001b[0;31mValueError\u001b[0m                                Traceback (most recent call last)",
            "\u001b[0;32m<ipython-input-19-481e2c7a935c>\u001b[0m in \u001b[0;36m<module>\u001b[0;34m()\u001b[0m\n\u001b[1;32m      1\u001b[0m \u001b[0;32mimport\u001b[0m \u001b[0msys\u001b[0m\u001b[0;34m\u001b[0m\u001b[0;34m\u001b[0m\u001b[0m\n\u001b[1;32m      2\u001b[0m \u001b[0;34m\u001b[0m\u001b[0m\n\u001b[0;32m----> 3\u001b[0;31m \u001b[0mn\u001b[0m \u001b[0;34m=\u001b[0m \u001b[0mint\u001b[0m\u001b[0;34m(\u001b[0m\u001b[0msys\u001b[0m\u001b[0;34m.\u001b[0m\u001b[0mstdin\u001b[0m\u001b[0;34m.\u001b[0m\u001b[0mreadline\u001b[0m\u001b[0;34m(\u001b[0m\u001b[0;34m)\u001b[0m\u001b[0;34m)\u001b[0m\u001b[0;34m\u001b[0m\u001b[0;34m\u001b[0m\u001b[0m\n\u001b[0m\u001b[1;32m      4\u001b[0m \u001b[0mnum_list\u001b[0m \u001b[0;34m=\u001b[0m \u001b[0;34m[\u001b[0m\u001b[0;36m0\u001b[0m\u001b[0;34m]\u001b[0m \u001b[0;34m*\u001b[0m \u001b[0;36m10001\u001b[0m\u001b[0;34m\u001b[0m\u001b[0;34m\u001b[0m\u001b[0m\n\u001b[1;32m      5\u001b[0m \u001b[0;34m\u001b[0m\u001b[0m\n",
            "\u001b[0;31mValueError\u001b[0m: invalid literal for int() with base 10: ''"
          ]
        }
      ]
    },
    {
      "cell_type": "markdown",
      "source": [
        "# 4"
      ],
      "metadata": {
        "id": "lyVnbueSmAlR"
      }
    },
    {
      "cell_type": "code",
      "source": [
        "n = int(input())\n",
        "numbers = []\n",
        "for i in range(n):\n",
        "  num = int(input())\n",
        "  numbers.append(num)\n",
        "\n",
        "# 산술평균\n",
        "avg = sum(numbers) / n\n",
        "print(round(avg)) # 소수점을 n번째 까지만 표현하고 반올림을 하고싶을때, round 함수를 사용, round(실수,n)\n",
        "\n",
        "# 중앙값\n",
        "numbers.sort()\n",
        "print(numbers[n//2])\n",
        "\n",
        "# 최빈값\n",
        "a = 0\n",
        "for i in range(n):\n",
        "  if numbers.count(numbers[i]) > a:\n",
        "    a = numbers.count(numbers[i])\n",
        "    b = []\n",
        "    b.append(numbers[i])\n",
        "    \n",
        "  elif numbers.count(numbers[i]) == a:\n",
        "    b.append(numbers[i])\n",
        "    \n",
        "new_b = set(b)\n",
        "b = list(new_b)\n",
        "b.sort()\n",
        "if len(b) != 1:\n",
        "  print(b[1])\n",
        "else:\n",
        "  print(b[0])\n",
        "\n",
        "# 범위\n",
        "max_number = max(numbers)\n",
        "min_number = min(numbers)\n",
        "print(max_number - min_number)"
      ],
      "metadata": {
        "colab": {
          "base_uri": "https://localhost:8080/"
        },
        "id": "v22IdPLFmAO8",
        "outputId": "e62136f6-359d-40d1-b59a-2eb02cd16d3f"
      },
      "execution_count": null,
      "outputs": [
        {
          "output_type": "stream",
          "name": "stdout",
          "text": [
            "5\n",
            "-1\n",
            "-2\n",
            "-3\n",
            "-1\n",
            "-2\n",
            "-2\n",
            "-2\n",
            "-1\n",
            "2\n"
          ]
        }
      ]
    },
    {
      "cell_type": "code",
      "source": [
        "import sys\n",
        "\n",
        "n = int(sys.stdin.readline())\n",
        "numbers = []\n",
        "for i in range(n):\n",
        "  num = int(input())\n",
        "  numbers.append(num)\n",
        "numbers.sort()\n",
        "\n",
        "# 산술평균\n",
        "avg = sum(numbers) / n\n",
        "print(round(avg)) # 소수점을 n번째 까지만 표현하고 반올림을 하고싶을때, round 함수를 사용, round(실수,n)\n",
        "\n",
        "# 중앙값\n",
        "numbers.sort()\n",
        "print(numbers[n//2])\n",
        "\n",
        "# 최빈값\n",
        "set_numbers = list(set(numbers)) # 중복제거한 값을 새로운 리스트에 저장\n",
        "a = 0\n",
        "for i in set_numbers:\n",
        "  if numbers.count(i) > a:\n",
        "    a = numbers.count(i)\n",
        "    b = []\n",
        "    b.append(i)\n",
        "    \n",
        "  elif numbers.count(i) == a:\n",
        "    b.append(i)\n",
        "    \n",
        "if len(b) != 1:\n",
        "  print(b[1])\n",
        "else:\n",
        "  print(b[0])\n",
        "\n",
        "\n",
        "# 범위\n",
        "print(numbers[-1] - numbers[0])"
      ],
      "metadata": {
        "colab": {
          "base_uri": "https://localhost:8080/",
          "height": 245
        },
        "id": "oF4x_yxtsW2k",
        "outputId": "4ebcf554-b9b3-47a9-ad3f-59dcafacb916"
      },
      "execution_count": null,
      "outputs": [
        {
          "output_type": "error",
          "ename": "ValueError",
          "evalue": "ignored",
          "traceback": [
            "\u001b[0;31m---------------------------------------------------------------------------\u001b[0m",
            "\u001b[0;31mValueError\u001b[0m                                Traceback (most recent call last)",
            "\u001b[0;32m<ipython-input-45-66ad80b842d5>\u001b[0m in \u001b[0;36m<module>\u001b[0;34m()\u001b[0m\n\u001b[1;32m      1\u001b[0m \u001b[0;32mimport\u001b[0m \u001b[0msys\u001b[0m\u001b[0;34m\u001b[0m\u001b[0;34m\u001b[0m\u001b[0m\n\u001b[1;32m      2\u001b[0m \u001b[0;34m\u001b[0m\u001b[0m\n\u001b[0;32m----> 3\u001b[0;31m \u001b[0mn\u001b[0m \u001b[0;34m=\u001b[0m \u001b[0mint\u001b[0m\u001b[0;34m(\u001b[0m\u001b[0msys\u001b[0m\u001b[0;34m.\u001b[0m\u001b[0mstdin\u001b[0m\u001b[0;34m.\u001b[0m\u001b[0mreadline\u001b[0m\u001b[0;34m(\u001b[0m\u001b[0;34m)\u001b[0m\u001b[0;34m)\u001b[0m\u001b[0;34m\u001b[0m\u001b[0;34m\u001b[0m\u001b[0m\n\u001b[0m\u001b[1;32m      4\u001b[0m \u001b[0mnumbers\u001b[0m \u001b[0;34m=\u001b[0m \u001b[0;34m[\u001b[0m\u001b[0;34m]\u001b[0m\u001b[0;34m\u001b[0m\u001b[0;34m\u001b[0m\u001b[0m\n\u001b[1;32m      5\u001b[0m \u001b[0;32mfor\u001b[0m \u001b[0mi\u001b[0m \u001b[0;32min\u001b[0m \u001b[0mrange\u001b[0m\u001b[0;34m(\u001b[0m\u001b[0mn\u001b[0m\u001b[0;34m)\u001b[0m\u001b[0;34m:\u001b[0m\u001b[0;34m\u001b[0m\u001b[0;34m\u001b[0m\u001b[0m\n",
            "\u001b[0;31mValueError\u001b[0m: invalid literal for int() with base 10: ''"
          ]
        }
      ]
    },
    {
      "cell_type": "code",
      "source": [
        "import sys\n",
        "from collections import Counter\n",
        "n = int(sys.stdin.readline())\n",
        "nums = []\n",
        "for i in range(n):\n",
        "    nums.append(int(sys.stdin.readline()))\n",
        "nums.sort()\n",
        "nums_s = Counter(nums).most_common()\n",
        "print(round(sum(nums) / n))\n",
        "print(nums[n // 2])\n",
        "if len(nums_s) > 1:\n",
        "    if nums_s[0][1] == nums_s[1][1]:\n",
        "        print(nums_s[1][0])\n",
        "    else:\n",
        "        print(nums_s[0][0])\n",
        "else:\n",
        "    print(nums_s[0][0])\n",
        "print(nums[-1] - nums[0])"
      ],
      "metadata": {
        "colab": {
          "base_uri": "https://localhost:8080/",
          "height": 245
        },
        "id": "k9avyJlv41pt",
        "outputId": "daf1a117-55bb-46e2-c40a-fd8521a92340"
      },
      "execution_count": null,
      "outputs": [
        {
          "output_type": "error",
          "ename": "ValueError",
          "evalue": "ignored",
          "traceback": [
            "\u001b[0;31m---------------------------------------------------------------------------\u001b[0m",
            "\u001b[0;31mValueError\u001b[0m                                Traceback (most recent call last)",
            "\u001b[0;32m<ipython-input-51-53612b29bb2f>\u001b[0m in \u001b[0;36m<module>\u001b[0;34m()\u001b[0m\n\u001b[1;32m      1\u001b[0m \u001b[0;32mimport\u001b[0m \u001b[0msys\u001b[0m\u001b[0;34m\u001b[0m\u001b[0;34m\u001b[0m\u001b[0m\n\u001b[1;32m      2\u001b[0m \u001b[0;32mfrom\u001b[0m \u001b[0mcollections\u001b[0m \u001b[0;32mimport\u001b[0m \u001b[0mCounter\u001b[0m\u001b[0;34m\u001b[0m\u001b[0;34m\u001b[0m\u001b[0m\n\u001b[0;32m----> 3\u001b[0;31m \u001b[0mn\u001b[0m \u001b[0;34m=\u001b[0m \u001b[0mint\u001b[0m\u001b[0;34m(\u001b[0m\u001b[0msys\u001b[0m\u001b[0;34m.\u001b[0m\u001b[0mstdin\u001b[0m\u001b[0;34m.\u001b[0m\u001b[0mreadline\u001b[0m\u001b[0;34m(\u001b[0m\u001b[0;34m)\u001b[0m\u001b[0;34m)\u001b[0m\u001b[0;34m\u001b[0m\u001b[0;34m\u001b[0m\u001b[0m\n\u001b[0m\u001b[1;32m      4\u001b[0m \u001b[0mnums\u001b[0m \u001b[0;34m=\u001b[0m \u001b[0;34m[\u001b[0m\u001b[0;34m]\u001b[0m\u001b[0;34m\u001b[0m\u001b[0;34m\u001b[0m\u001b[0m\n\u001b[1;32m      5\u001b[0m \u001b[0;32mfor\u001b[0m \u001b[0mi\u001b[0m \u001b[0;32min\u001b[0m \u001b[0mrange\u001b[0m\u001b[0;34m(\u001b[0m\u001b[0mn\u001b[0m\u001b[0;34m)\u001b[0m\u001b[0;34m:\u001b[0m\u001b[0;34m\u001b[0m\u001b[0;34m\u001b[0m\u001b[0m\n",
            "\u001b[0;31mValueError\u001b[0m: invalid literal for int() with base 10: ''"
          ]
        }
      ]
    },
    {
      "cell_type": "code",
      "source": [
        "n = int(input())\n",
        "numbers = []\n",
        "for i in range(n):\n",
        "  num = int(input())\n",
        "  numbers.append(num)\n",
        "numbers.sort()\n",
        "\n",
        "# 최빈값\n",
        "set_numbers = list(set(numbers))\n",
        "a = 0\n",
        "for i in set_numbers:\n",
        "  if numbers.count(i) > a:\n",
        "    a = numbers.count(i)\n",
        "    b = []\n",
        "    b.append(i)\n",
        "    \n",
        "  elif numbers.count(i) == a:\n",
        "    b.append(i)\n",
        "    \n",
        "if len(b) != 1:\n",
        "  print(b[1])\n",
        "else:\n",
        "  print(b[0])\n"
      ],
      "metadata": {
        "colab": {
          "base_uri": "https://localhost:8080/"
        },
        "id": "JfrCb41X2ej8",
        "outputId": "9af53a8e-986c-4a96-b084-7956c1bd83ec"
      },
      "execution_count": null,
      "outputs": [
        {
          "output_type": "stream",
          "name": "stdout",
          "text": [
            "5\n",
            "-1\n",
            "-2\n",
            "-3\n",
            "-1\n",
            "-2\n",
            "-1\n"
          ]
        }
      ]
    },
    {
      "cell_type": "markdown",
      "source": [
        "# 5"
      ],
      "metadata": {
        "id": "albxGZSC49sR"
      }
    },
    {
      "cell_type": "code",
      "source": [
        "n = list(input())\n",
        "n.sort(reverse=True)\n",
        "print(\"\".join(n))"
      ],
      "metadata": {
        "colab": {
          "base_uri": "https://localhost:8080/"
        },
        "id": "ypXnu7q_4_TJ",
        "outputId": "49f1483c-f51d-4971-f8c4-a40070a360fb"
      },
      "execution_count": null,
      "outputs": [
        {
          "output_type": "stream",
          "name": "stdout",
          "text": [
            "135477921\n",
            "977543211\n"
          ]
        }
      ]
    },
    {
      "cell_type": "markdown",
      "source": [
        "# 6"
      ],
      "metadata": {
        "id": "nSbJsv677QZy"
      }
    },
    {
      "cell_type": "code",
      "source": [
        "N=int(input())\n",
        "arr=[]\n",
        "for i in range(N):\n",
        "    a,b = map(int,input().split())\n",
        "    arr.append((a,b))\n",
        "arr.sort()\n",
        "for i in range(N):\n",
        "    print(arr[i][0],arr[i][1])"
      ],
      "metadata": {
        "colab": {
          "base_uri": "https://localhost:8080/"
        },
        "id": "1vlJ11b4-jee",
        "outputId": "b92a1c84-e84a-4420-ecb0-d104a6ea0cba"
      },
      "execution_count": null,
      "outputs": [
        {
          "output_type": "stream",
          "name": "stdout",
          "text": [
            "5\n",
            "3 4\n",
            "1 1\n",
            "1 -1\n",
            "2 2\n",
            "3 3\n",
            "1 -1\n",
            "1 1\n",
            "2 2\n",
            "3 3\n",
            "3 4\n"
          ]
        }
      ]
    },
    {
      "cell_type": "markdown",
      "source": [
        "# 7"
      ],
      "metadata": {
        "id": "6agxlNqRERA0"
      }
    },
    {
      "cell_type": "code",
      "source": [
        "N=int(input())\n",
        "arr=[]\n",
        "for i in range(N):\n",
        "    a,b = map(int,input().split())\n",
        "    arr.append((b,a))\n",
        "arr.sort()\n",
        "\n",
        "for y, x in arr:\n",
        "  print(x, y)"
      ],
      "metadata": {
        "colab": {
          "base_uri": "https://localhost:8080/"
        },
        "id": "L0ro9YHSERw6",
        "outputId": "1a1eadcb-6445-4f5d-d201-e6d0a8f87b35"
      },
      "execution_count": null,
      "outputs": [
        {
          "output_type": "stream",
          "name": "stdout",
          "text": [
            "5\n",
            "0 4\n",
            "1 2\n",
            "1 -1\n",
            "2 2\n",
            "3 3\n",
            "1 -1\n",
            "1 2\n",
            "2 2\n",
            "3 3\n",
            "0 4\n"
          ]
        }
      ]
    },
    {
      "cell_type": "markdown",
      "source": [
        "# 8"
      ],
      "metadata": {
        "id": "poF4kz__OBrx"
      }
    },
    {
      "cell_type": "code",
      "source": [
        "n = int(input())\n",
        "word = []\n",
        "for i in range(n):\n",
        "  wd = input()\n",
        "  word.append(wd)\n",
        "\n",
        "word_new = set(word)\n",
        "word = list(word_new)\n",
        "word.sort()\n",
        "word.sort(key=len)\n",
        "\n",
        "\n",
        "for j in word:\n",
        "  print(j)  "
      ],
      "metadata": {
        "colab": {
          "base_uri": "https://localhost:8080/"
        },
        "id": "-F6afjugOCls",
        "outputId": "a7848fb0-0ad5-4ace-f047-e9c285347434"
      },
      "execution_count": 6,
      "outputs": [
        {
          "output_type": "stream",
          "name": "stdout",
          "text": [
            "13\n",
            "but\n",
            "i\n",
            "wont\n",
            "hesiate\n",
            "no\n",
            "more\n",
            "no\n",
            "more\n",
            "it\n",
            "cannot\n",
            "wait\n",
            "im\n",
            "yours\n",
            "i\n",
            "im\n",
            "it\n",
            "no\n",
            "but\n",
            "more\n",
            "wait\n",
            "wont\n",
            "yours\n",
            "cannot\n",
            "hesiate\n"
          ]
        }
      ]
    },
    {
      "cell_type": "markdown",
      "source": [
        "# 9"
      ],
      "metadata": {
        "id": "0--1mGnXUFzy"
      }
    },
    {
      "cell_type": "code",
      "source": [
        "n = int(input())\n",
        "login = []\n",
        "for i in range(n):\n",
        "  a,b = input().split()\n",
        "  login.append((int(a),b))\n",
        "login.sort(key = lambda x:x[0]) # 0번째 값에 의해 정렬\n",
        "for j in range(n):\n",
        "    print(login[j][0], login[j][1])"
      ],
      "metadata": {
        "colab": {
          "base_uri": "https://localhost:8080/"
        },
        "id": "SPn7hNkTUGyO",
        "outputId": "1b534287-1179-45f6-e739-caa439652551"
      },
      "execution_count": 15,
      "outputs": [
        {
          "output_type": "stream",
          "name": "stdout",
          "text": [
            "3\n",
            "21 so\n",
            "20 go\n",
            "21 ao\n",
            "20 go\n",
            "21 so\n",
            "21 ao\n"
          ]
        }
      ]
    },
    {
      "cell_type": "markdown",
      "source": [
        "# 10"
      ],
      "metadata": {
        "id": "SBU-B0LxWqpr"
      }
    },
    {
      "cell_type": "code",
      "source": [
        "n = int(input())\n",
        "x = list(map(int, input().split()))\n",
        "set_x = set(x)\n",
        "sort_x = list(set_x)\n",
        "sort_x.sort()\n",
        "zip_x = []\n",
        "for i in x:\n",
        "  zip_x.append(sort_x.index(i))\n",
        "  \n",
        "for j in zip_x:\n",
        "  print(j, end = ' ')"
      ],
      "metadata": {
        "colab": {
          "base_uri": "https://localhost:8080/"
        },
        "id": "NomS0UJoUkZt",
        "outputId": "c7c9231b-1290-4f14-aa0e-543c119784a1"
      },
      "execution_count": 22,
      "outputs": [
        {
          "output_type": "stream",
          "name": "stdout",
          "text": [
            "6\n",
            "1000 999 1000 999 1000 999\n",
            "1 0 1 0 1 0 "
          ]
        }
      ]
    },
    {
      "cell_type": "code",
      "source": [
        "import sys\n",
        "\n",
        "n = int(sys.stdin.readline())\n",
        "x = list(map(int, input().split()))\n",
        "set_x = set(x)\n",
        "sort_x = list(set_x)\n",
        "sort_x.sort()\n",
        "zip_x = []\n",
        "for i in x:\n",
        "  zip_x.append(sort_x.index(i))\n",
        "  \n",
        "for j in zip_x:\n",
        "  print(j, end = ' ')"
      ],
      "metadata": {
        "colab": {
          "base_uri": "https://localhost:8080/",
          "height": 245
        },
        "id": "cgbXDWzgdPSp",
        "outputId": "db9ce0d3-bcf6-4e18-b017-1a3f00210e20"
      },
      "execution_count": 23,
      "outputs": [
        {
          "output_type": "error",
          "ename": "ValueError",
          "evalue": "ignored",
          "traceback": [
            "\u001b[0;31m---------------------------------------------------------------------------\u001b[0m",
            "\u001b[0;31mValueError\u001b[0m                                Traceback (most recent call last)",
            "\u001b[0;32m<ipython-input-23-4c6b711a817e>\u001b[0m in \u001b[0;36m<module>\u001b[0;34m()\u001b[0m\n\u001b[1;32m      1\u001b[0m \u001b[0;32mimport\u001b[0m \u001b[0msys\u001b[0m\u001b[0;34m\u001b[0m\u001b[0;34m\u001b[0m\u001b[0m\n\u001b[1;32m      2\u001b[0m \u001b[0;34m\u001b[0m\u001b[0m\n\u001b[0;32m----> 3\u001b[0;31m \u001b[0mn\u001b[0m \u001b[0;34m=\u001b[0m \u001b[0mint\u001b[0m\u001b[0;34m(\u001b[0m\u001b[0msys\u001b[0m\u001b[0;34m.\u001b[0m\u001b[0mstdin\u001b[0m\u001b[0;34m.\u001b[0m\u001b[0mreadline\u001b[0m\u001b[0;34m(\u001b[0m\u001b[0;34m)\u001b[0m\u001b[0;34m)\u001b[0m\u001b[0;34m\u001b[0m\u001b[0;34m\u001b[0m\u001b[0m\n\u001b[0m\u001b[1;32m      4\u001b[0m \u001b[0mx\u001b[0m \u001b[0;34m=\u001b[0m \u001b[0mlist\u001b[0m\u001b[0;34m(\u001b[0m\u001b[0mmap\u001b[0m\u001b[0;34m(\u001b[0m\u001b[0mint\u001b[0m\u001b[0;34m,\u001b[0m \u001b[0minput\u001b[0m\u001b[0;34m(\u001b[0m\u001b[0;34m)\u001b[0m\u001b[0;34m.\u001b[0m\u001b[0msplit\u001b[0m\u001b[0;34m(\u001b[0m\u001b[0;34m)\u001b[0m\u001b[0;34m)\u001b[0m\u001b[0;34m)\u001b[0m\u001b[0;34m\u001b[0m\u001b[0;34m\u001b[0m\u001b[0m\n\u001b[1;32m      5\u001b[0m \u001b[0mset_x\u001b[0m \u001b[0;34m=\u001b[0m \u001b[0mset\u001b[0m\u001b[0;34m(\u001b[0m\u001b[0mx\u001b[0m\u001b[0;34m)\u001b[0m\u001b[0;34m\u001b[0m\u001b[0;34m\u001b[0m\u001b[0m\n",
            "\u001b[0;31mValueError\u001b[0m: invalid literal for int() with base 10: ''"
          ]
        }
      ]
    },
    {
      "cell_type": "code",
      "source": [
        "n = int(input())\n",
        "x = list(map(int, input().split()))\n",
        "set_x = set(x)\n",
        "sort_x = list(set_x)\n",
        "sort_x.sort()\n",
        "zip_x = []\n",
        "for i in x:\n",
        "  zip_x.append(sort_x.index(i))\n",
        "  \n",
        "print(*zip_x, sep=' ')\n"
      ],
      "metadata": {
        "colab": {
          "base_uri": "https://localhost:8080/"
        },
        "id": "AAzGpojLdgXe",
        "outputId": "a96ce24b-c816-499c-a198-85a0f1eb8407"
      },
      "execution_count": 32,
      "outputs": [
        {
          "output_type": "stream",
          "name": "stdout",
          "text": [
            "5\n",
            "2 4 -10 4 -9\n",
            "2 3 0 3 1\n"
          ]
        }
      ]
    },
    {
      "cell_type": "code",
      "source": [
        "import sys\n",
        "\n",
        "n = int(sys.stdin.readline())\n",
        "x = list(map(int, input().split()))\n",
        "set_x = set(x)\n",
        "sort_x = list(set_x)\n",
        "sort_x.sort()\n",
        "zip_x = []\n",
        "for i in x:\n",
        "  zip_x.append(sort_x.index(i))\n",
        "  \n",
        "print(*zip_x, sep=' ')"
      ],
      "metadata": {
        "id": "uRwEz-uIetUf"
      },
      "execution_count": null,
      "outputs": []
    },
    {
      "cell_type": "code",
      "source": [
        "n = int(input())\n",
        "x = list(map(int, input().split()))\n",
        "\n",
        "sort_x = sorted(list(set(set_x)))\n",
        "\n",
        "zip_x = []\n",
        "for i in x:\n",
        "  zip_x.append(sort_x.index(i))\n",
        "  \n",
        "print(*zip_x, sep=' ')"
      ],
      "metadata": {
        "colab": {
          "base_uri": "https://localhost:8080/"
        },
        "id": "fZP7c5qVghEF",
        "outputId": "0fa71aa7-abc0-4d34-a32a-4b2f64796e31"
      },
      "execution_count": 35,
      "outputs": [
        {
          "output_type": "stream",
          "name": "stdout",
          "text": [
            "5\n",
            "2 4 -10 4 -9\n",
            "2 3 0 3 1\n"
          ]
        }
      ]
    },
    {
      "cell_type": "code",
      "source": [
        "n = int(input())\n",
        "x = list(map(int, input().split()))\n",
        "\n",
        "sort_x = sorted(list(set(set_x)))\n",
        "\n",
        "for i in x:\n",
        "  print(sort_x.index(i), end = ' ')"
      ],
      "metadata": {
        "colab": {
          "base_uri": "https://localhost:8080/"
        },
        "id": "qcPDFhPUhxn1",
        "outputId": "666234ae-ad5f-4285-9b23-8a1974b9a9c4"
      },
      "execution_count": 36,
      "outputs": [
        {
          "output_type": "stream",
          "name": "stdout",
          "text": [
            "5\n",
            "2 4 -10 4 -9\n",
            "2 3 0 3 1 "
          ]
        }
      ]
    },
    {
      "cell_type": "code",
      "source": [
        "import sys\n",
        "\n",
        "n = int(sys.stdin.readline())\n",
        "x = list(map(int, input().split()))\n",
        "\n",
        "sort_x = sorted(list(set(x)))\n",
        "dic = {sort_x[i] : i for i in range(len(sort_x))}\n",
        "for i in x:\n",
        "    print(dic[i], end = ' ')"
      ],
      "metadata": {
        "id": "uYtvBWl5iyMZ"
      },
      "execution_count": null,
      "outputs": []
    },
    {
      "cell_type": "code",
      "source": [
        "import sys\n",
        "\n",
        "n = int(sys.stdin.readline())\n",
        "x = list(map(int, input().split()))\n",
        "\n",
        "sort_x = sorted(list(set(x)))\n",
        "dic = {sort_x[i] : i for i in range(len(sort_x))}\n",
        "print(*dic, sep=' ')"
      ],
      "metadata": {
        "colab": {
          "base_uri": "https://localhost:8080/",
          "height": 245
        },
        "id": "n3DmtqNIjTof",
        "outputId": "d0f98671-cf9e-470d-c45a-802026c74708"
      },
      "execution_count": 37,
      "outputs": [
        {
          "output_type": "error",
          "ename": "ValueError",
          "evalue": "ignored",
          "traceback": [
            "\u001b[0;31m---------------------------------------------------------------------------\u001b[0m",
            "\u001b[0;31mValueError\u001b[0m                                Traceback (most recent call last)",
            "\u001b[0;32m<ipython-input-37-b2a17cca07e8>\u001b[0m in \u001b[0;36m<module>\u001b[0;34m()\u001b[0m\n\u001b[1;32m      1\u001b[0m \u001b[0;32mimport\u001b[0m \u001b[0msys\u001b[0m\u001b[0;34m\u001b[0m\u001b[0;34m\u001b[0m\u001b[0m\n\u001b[1;32m      2\u001b[0m \u001b[0;34m\u001b[0m\u001b[0m\n\u001b[0;32m----> 3\u001b[0;31m \u001b[0mn\u001b[0m \u001b[0;34m=\u001b[0m \u001b[0mint\u001b[0m\u001b[0;34m(\u001b[0m\u001b[0msys\u001b[0m\u001b[0;34m.\u001b[0m\u001b[0mstdin\u001b[0m\u001b[0;34m.\u001b[0m\u001b[0mreadline\u001b[0m\u001b[0;34m(\u001b[0m\u001b[0;34m)\u001b[0m\u001b[0;34m)\u001b[0m\u001b[0;34m\u001b[0m\u001b[0;34m\u001b[0m\u001b[0m\n\u001b[0m\u001b[1;32m      4\u001b[0m \u001b[0mx\u001b[0m \u001b[0;34m=\u001b[0m \u001b[0mlist\u001b[0m\u001b[0;34m(\u001b[0m\u001b[0mmap\u001b[0m\u001b[0;34m(\u001b[0m\u001b[0mint\u001b[0m\u001b[0;34m,\u001b[0m \u001b[0minput\u001b[0m\u001b[0;34m(\u001b[0m\u001b[0;34m)\u001b[0m\u001b[0;34m.\u001b[0m\u001b[0msplit\u001b[0m\u001b[0;34m(\u001b[0m\u001b[0;34m)\u001b[0m\u001b[0;34m)\u001b[0m\u001b[0;34m)\u001b[0m\u001b[0;34m\u001b[0m\u001b[0;34m\u001b[0m\u001b[0m\n\u001b[1;32m      5\u001b[0m \u001b[0;34m\u001b[0m\u001b[0m\n",
            "\u001b[0;31mValueError\u001b[0m: invalid literal for int() with base 10: ''"
          ]
        }
      ]
    },
    {
      "cell_type": "code",
      "source": [
        "n = int(input())\n",
        "x = list(map(int, input().split()))\n",
        "\n",
        "sort_x = sorted(list(set(x)))\n",
        "dic = {sort_x[i] : i for i in range(len(sort_x))}\n",
        "for j in x:\n",
        "    print(dic[j], end = ' ')"
      ],
      "metadata": {
        "colab": {
          "base_uri": "https://localhost:8080/"
        },
        "id": "VdF5t0TZjcvN",
        "outputId": "e2c9f5ad-caaf-4cbe-8e60-36a7973d0064"
      },
      "execution_count": 41,
      "outputs": [
        {
          "output_type": "stream",
          "name": "stdout",
          "text": [
            "5\n",
            "2 4 -10 4 -9\n",
            "2 3 0 3 1 "
          ]
        }
      ]
    },
    {
      "cell_type": "code",
      "source": [
        "import sys\n",
        "\n",
        "n = int(sys.stdin.readline())\n",
        "sort_x = sorted(list(set(x)))\n",
        "dic = {sort_x[i] : i for i in range(len(sort_x))}\n",
        "for j in x:\n",
        "    print(dic[j], end = ' ')"
      ],
      "metadata": {
        "id": "tGPGV6dLlU4X"
      },
      "execution_count": null,
      "outputs": []
    }
  ]
}