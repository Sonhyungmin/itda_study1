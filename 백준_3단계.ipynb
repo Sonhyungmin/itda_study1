{
  "nbformat": 4,
  "nbformat_minor": 0,
  "metadata": {
    "colab": {
      "name": "백준 3단계",
      "provenance": [],
      "authorship_tag": "ABX9TyOCve6Ch9jkPWLeCYlx7jLM",
      "include_colab_link": true
    },
    "kernelspec": {
      "name": "python3",
      "display_name": "Python 3"
    },
    "language_info": {
      "name": "python"
    }
  },
  "cells": [
    {
      "cell_type": "markdown",
      "metadata": {
        "id": "view-in-github",
        "colab_type": "text"
      },
      "source": [
        "<a href=\"https://colab.research.google.com/github/Sonhyungmin/itda_study1/blob/main/%EB%B0%B1%EC%A4%80_3%EB%8B%A8%EA%B3%84.ipynb\" target=\"_parent\"><img src=\"https://colab.research.google.com/assets/colab-badge.svg\" alt=\"Open In Colab\"/></a>"
      ]
    },
    {
      "cell_type": "markdown",
      "metadata": {
        "id": "lSA81FS2RPCU"
      },
      "source": [
        "#1번"
      ]
    },
    {
      "cell_type": "code",
      "metadata": {
        "id": "Cu7ypqBgRKq-",
        "colab": {
          "base_uri": "https://localhost:8080/"
        },
        "outputId": "0ede6b3d-e989-427d-d3c8-330871afb626"
      },
      "source": [
        "N = int(input())\n",
        "\n",
        "for i in range(1, 10):\n",
        "  a = N * i\n",
        "  print(\"%d * %d = %d\" %(N, i, a))"
      ],
      "execution_count": 1,
      "outputs": [
        {
          "output_type": "stream",
          "name": "stdout",
          "text": [
            "2\n",
            "2 * 1 = 2\n",
            "2 * 2 = 4\n",
            "2 * 3 = 6\n",
            "2 * 4 = 8\n",
            "2 * 5 = 10\n",
            "2 * 6 = 12\n",
            "2 * 7 = 14\n",
            "2 * 8 = 16\n",
            "2 * 9 = 18\n"
          ]
        }
      ]
    },
    {
      "cell_type": "markdown",
      "metadata": {
        "id": "aB_SNtkDRZhn"
      },
      "source": [
        "#2번"
      ]
    },
    {
      "cell_type": "code",
      "metadata": {
        "id": "gyxP_YlpRYKN",
        "colab": {
          "base_uri": "https://localhost:8080/"
        },
        "outputId": "da5862e5-acae-4897-cf40-45fc25b3735e"
      },
      "source": [
        "T = int(input())\n",
        "for i in range(T):\n",
        "  A, B =  list(map(int, input().split()))\n",
        "  print(A + B)"
      ],
      "execution_count": 2,
      "outputs": [
        {
          "output_type": "stream",
          "name": "stdout",
          "text": [
            "5\n",
            "1 1 \n",
            "2\n",
            "2 3\n",
            "5\n",
            "3 4 \n",
            "7\n",
            "5 6\n",
            "11\n",
            "9 8\n",
            "17\n"
          ]
        }
      ]
    },
    {
      "cell_type": "markdown",
      "metadata": {
        "id": "ja_B9EEPRggy"
      },
      "source": [
        "#3번"
      ]
    },
    {
      "cell_type": "code",
      "metadata": {
        "id": "uh2CXoQuRhea",
        "colab": {
          "base_uri": "https://localhost:8080/"
        },
        "outputId": "eab498d1-1f73-4705-9c14-f00c57559cb1"
      },
      "source": [
        "n = int(input())\n",
        "N = 0\n",
        "for i in range(1, n+1):\n",
        "   N += i\n",
        "\n",
        "print(N)"
      ],
      "execution_count": 3,
      "outputs": [
        {
          "output_type": "stream",
          "name": "stdout",
          "text": [
            "3\n",
            "6\n"
          ]
        }
      ]
    },
    {
      "cell_type": "markdown",
      "metadata": {
        "id": "tssm8C8WRlEx"
      },
      "source": [
        "#4번"
      ]
    },
    {
      "cell_type": "code",
      "metadata": {
        "id": "Pyh5RrxSdDFD"
      },
      "source": [
        "import sys\n",
        "\n",
        "n = int(input())\n",
        "for i in range(n):\n",
        "    a,b = map(int, sys.stdin.readline().split())\n",
        "    print(a + b)"
      ],
      "execution_count": null,
      "outputs": []
    },
    {
      "cell_type": "markdown",
      "metadata": {
        "id": "jN1t0pKPRrI6"
      },
      "source": [
        "#5번"
      ]
    },
    {
      "cell_type": "code",
      "metadata": {
        "id": "Fz1T8W3yRqpN",
        "colab": {
          "base_uri": "https://localhost:8080/"
        },
        "outputId": "ad9171b8-6630-4292-c43c-6d9aabd2bb66"
      },
      "source": [
        "n = int(input())\n",
        "for i in range(1, n+1):\n",
        "  print(i)"
      ],
      "execution_count": 5,
      "outputs": [
        {
          "output_type": "stream",
          "name": "stdout",
          "text": [
            "5\n",
            "1\n",
            "2\n",
            "3\n",
            "4\n",
            "5\n"
          ]
        }
      ]
    },
    {
      "cell_type": "markdown",
      "metadata": {
        "id": "d4h5yHRWRyc6"
      },
      "source": [
        "#6번"
      ]
    },
    {
      "cell_type": "code",
      "metadata": {
        "id": "LZyllYv1Rzc9",
        "colab": {
          "base_uri": "https://localhost:8080/"
        },
        "outputId": "beb77a3c-dd02-42d7-88b5-37bc105f462f"
      },
      "source": [
        "n = int(input())\n",
        "for i in range(n, 0, -1):\n",
        "  print(i)"
      ],
      "execution_count": 6,
      "outputs": [
        {
          "output_type": "stream",
          "name": "stdout",
          "text": [
            "5\n",
            "5\n",
            "4\n",
            "3\n",
            "2\n",
            "1\n"
          ]
        }
      ]
    },
    {
      "cell_type": "markdown",
      "metadata": {
        "id": "fFjHYWd3R3fo"
      },
      "source": [
        "#7번"
      ]
    },
    {
      "cell_type": "code",
      "metadata": {
        "id": "lzIaRZ7AR4Yw",
        "colab": {
          "base_uri": "https://localhost:8080/",
          "height": 266
        },
        "outputId": "92e84d05-1862-4f96-c705-4307e25e6b97"
      },
      "source": [
        "import sys\n",
        "n = int(input())\n",
        "num = 1\n",
        "for i in range(n):\n",
        "  a, b = map(int, sys.stdin.readline().split())\n",
        "  print(f\"Case #{num}:\", a+b)\n",
        "  num += 1"
      ],
      "execution_count": 7,
      "outputs": [
        {
          "name": "stdout",
          "output_type": "stream",
          "text": [
            "5\n"
          ]
        },
        {
          "output_type": "error",
          "ename": "ValueError",
          "evalue": "ignored",
          "traceback": [
            "\u001b[0;31m---------------------------------------------------------------------------\u001b[0m",
            "\u001b[0;31mValueError\u001b[0m                                Traceback (most recent call last)",
            "\u001b[0;32m<ipython-input-7-b4125e75e5cb>\u001b[0m in \u001b[0;36m<module>\u001b[0;34m()\u001b[0m\n\u001b[1;32m      3\u001b[0m \u001b[0mnum\u001b[0m \u001b[0;34m=\u001b[0m \u001b[0;36m1\u001b[0m\u001b[0;34m\u001b[0m\u001b[0;34m\u001b[0m\u001b[0m\n\u001b[1;32m      4\u001b[0m \u001b[0;32mfor\u001b[0m \u001b[0mi\u001b[0m \u001b[0;32min\u001b[0m \u001b[0mrange\u001b[0m\u001b[0;34m(\u001b[0m\u001b[0mn\u001b[0m\u001b[0;34m)\u001b[0m\u001b[0;34m:\u001b[0m\u001b[0;34m\u001b[0m\u001b[0;34m\u001b[0m\u001b[0m\n\u001b[0;32m----> 5\u001b[0;31m   \u001b[0ma\u001b[0m\u001b[0;34m,\u001b[0m \u001b[0mb\u001b[0m \u001b[0;34m=\u001b[0m \u001b[0mmap\u001b[0m\u001b[0;34m(\u001b[0m\u001b[0mint\u001b[0m\u001b[0;34m,\u001b[0m \u001b[0msys\u001b[0m\u001b[0;34m.\u001b[0m\u001b[0mstdin\u001b[0m\u001b[0;34m.\u001b[0m\u001b[0mreadline\u001b[0m\u001b[0;34m(\u001b[0m\u001b[0;34m)\u001b[0m\u001b[0;34m.\u001b[0m\u001b[0msplit\u001b[0m\u001b[0;34m(\u001b[0m\u001b[0;34m)\u001b[0m\u001b[0;34m)\u001b[0m\u001b[0;34m\u001b[0m\u001b[0;34m\u001b[0m\u001b[0m\n\u001b[0m\u001b[1;32m      6\u001b[0m   \u001b[0mprint\u001b[0m\u001b[0;34m(\u001b[0m\u001b[0;34mf\"Case #{num}:\"\u001b[0m\u001b[0;34m,\u001b[0m \u001b[0ma\u001b[0m\u001b[0;34m+\u001b[0m\u001b[0mb\u001b[0m\u001b[0;34m)\u001b[0m\u001b[0;34m\u001b[0m\u001b[0;34m\u001b[0m\u001b[0m\n\u001b[1;32m      7\u001b[0m   \u001b[0mnum\u001b[0m \u001b[0;34m+=\u001b[0m \u001b[0;36m1\u001b[0m\u001b[0;34m\u001b[0m\u001b[0;34m\u001b[0m\u001b[0m\n",
            "\u001b[0;31mValueError\u001b[0m: not enough values to unpack (expected 2, got 0)"
          ]
        }
      ]
    },
    {
      "cell_type": "code",
      "metadata": {
        "id": "nkPGZ7cwdZ4O"
      },
      "source": [
        "#위에 코드 코랩이나 주피터에서는 오류 나는데 백준에서 되는 이유가..?\n"
      ],
      "execution_count": null,
      "outputs": []
    },
    {
      "cell_type": "code",
      "metadata": {
        "colab": {
          "base_uri": "https://localhost:8080/"
        },
        "id": "8imIDqWao8lm",
        "outputId": "a5bfaaef-9a3e-49d8-8888-80243e7bffd9"
      },
      "source": [
        "n = int(input())\n",
        "num = 1\n",
        "for i in range(n):\n",
        "  a, b = map(int, input().split())\n",
        "  print(f\"Case #{num}:\", a+b)\n",
        "  num += 1"
      ],
      "execution_count": 8,
      "outputs": [
        {
          "output_type": "stream",
          "name": "stdout",
          "text": [
            "5\n",
            "1 1\n",
            "Case #1: 2\n",
            "2 3\n",
            "Case #2: 5\n",
            "3 4\n",
            "Case #3: 7\n",
            "9 8\n",
            "Case #4: 17\n",
            "5 2\n",
            "Case #5: 7\n"
          ]
        }
      ]
    },
    {
      "cell_type": "markdown",
      "metadata": {
        "id": "GApNn1OPR7e7"
      },
      "source": [
        "#8번"
      ]
    },
    {
      "cell_type": "code",
      "metadata": {
        "id": "-oZfFetUSBG0",
        "colab": {
          "base_uri": "https://localhost:8080/"
        },
        "outputId": "ff6d15e2-9a60-4283-eae3-d548a8f041c5"
      },
      "source": [
        "cases = int(input())\n",
        "\n",
        "for i in range(cases):\n",
        "    a,b = map(int, input().split())\n",
        "    ans = a + b\n",
        "    print(\"Case #%s: %s + %s = %s\"%(i+1, a, b, ans ))"
      ],
      "execution_count": 9,
      "outputs": [
        {
          "output_type": "stream",
          "name": "stdout",
          "text": [
            "5\n",
            "1 1\n",
            "Case #1: 1 + 1 = 2\n",
            "2 3\n",
            "Case #2: 2 + 3 = 5\n",
            "3 4\n",
            "Case #3: 3 + 4 = 7\n",
            "9 8\n",
            "Case #4: 9 + 8 = 17\n",
            "5 2\n",
            "Case #5: 5 + 2 = 7\n"
          ]
        }
      ]
    },
    {
      "cell_type": "markdown",
      "metadata": {
        "id": "QEjzpPEfSBqm"
      },
      "source": [
        "#9번"
      ]
    },
    {
      "cell_type": "code",
      "metadata": {
        "id": "UrFuYeDFSILx",
        "colab": {
          "base_uri": "https://localhost:8080/"
        },
        "outputId": "1080eb47-078d-4966-ff1d-1799bb76fa7f"
      },
      "source": [
        "n = int(input())\n",
        "for i in range(1, n+1):\n",
        "  print('*'* i)"
      ],
      "execution_count": 10,
      "outputs": [
        {
          "output_type": "stream",
          "name": "stdout",
          "text": [
            "10\n",
            "*\n",
            "**\n",
            "***\n",
            "****\n",
            "*****\n",
            "******\n",
            "*******\n",
            "********\n",
            "*********\n",
            "**********\n"
          ]
        }
      ]
    },
    {
      "cell_type": "markdown",
      "metadata": {
        "id": "J8thnX7OSI4m"
      },
      "source": [
        ""
      ]
    },
    {
      "cell_type": "markdown",
      "metadata": {
        "id": "6UJQ-vizSJD6"
      },
      "source": [
        "#10번"
      ]
    },
    {
      "cell_type": "code",
      "metadata": {
        "id": "hzYZfB8MSKDj",
        "colab": {
          "base_uri": "https://localhost:8080/"
        },
        "outputId": "efaf9dd2-127a-4468-ee05-0686fe2c2698"
      },
      "source": [
        "n = int(input())\n",
        "for i in range(1, n+1):\n",
        "  print(str('*' * i).rjust(n))"
      ],
      "execution_count": 11,
      "outputs": [
        {
          "output_type": "stream",
          "name": "stdout",
          "text": [
            "10\n",
            "         *\n",
            "        **\n",
            "       ***\n",
            "      ****\n",
            "     *****\n",
            "    ******\n",
            "   *******\n",
            "  ********\n",
            " *********\n",
            "**********\n"
          ]
        }
      ]
    },
    {
      "cell_type": "markdown",
      "metadata": {
        "id": "2u6vVET0SOGu"
      },
      "source": [
        ""
      ]
    },
    {
      "cell_type": "markdown",
      "metadata": {
        "id": "A0O8-p0HSOO2"
      },
      "source": [
        "#11번"
      ]
    },
    {
      "cell_type": "code",
      "metadata": {
        "colab": {
          "base_uri": "https://localhost:8080/"
        },
        "id": "ndMV7MMsSPPC",
        "outputId": "de0b3ed7-5a37-4515-d56f-f877dde7745d"
      },
      "source": [
        "A, X = map(int, input().split())\n",
        "n = list(map(int, input().split()))\n",
        "\n",
        "for i in range(A):\n",
        "  if n[i] < X:\n",
        "    print(n[i], end=' ')"
      ],
      "execution_count": null,
      "outputs": [
        {
          "output_type": "stream",
          "name": "stdout",
          "text": [
            "10 5\n",
            "1 10 4 9 2 3 8 5 7 6\n",
            "1 4 2 3 "
          ]
        }
      ]
    },
    {
      "cell_type": "markdown",
      "metadata": {
        "id": "mrxizslJSB8N"
      },
      "source": [
        ""
      ]
    }
  ]
}