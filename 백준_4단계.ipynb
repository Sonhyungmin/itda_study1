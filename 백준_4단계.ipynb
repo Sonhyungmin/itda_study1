{
  "nbformat": 4,
  "nbformat_minor": 0,
  "metadata": {
    "colab": {
      "name": "백준 4단계",
      "provenance": [],
      "authorship_tag": "ABX9TyO7a76CVwtrGJMjp+9PZ4YW",
      "include_colab_link": true
    },
    "kernelspec": {
      "name": "python3",
      "display_name": "Python 3"
    },
    "language_info": {
      "name": "python"
    }
  },
  "cells": [
    {
      "cell_type": "markdown",
      "metadata": {
        "id": "view-in-github",
        "colab_type": "text"
      },
      "source": [
        "<a href=\"https://colab.research.google.com/github/Sonhyungmin/itda_study1/blob/main/%EB%B0%B1%EC%A4%80_4%EB%8B%A8%EA%B3%84.ipynb\" target=\"_parent\"><img src=\"https://colab.research.google.com/assets/colab-badge.svg\" alt=\"Open In Colab\"/></a>"
      ]
    },
    {
      "cell_type": "markdown",
      "metadata": {
        "id": "fDqgaLwcSysU"
      },
      "source": [
        "#1번"
      ]
    },
    {
      "cell_type": "code",
      "metadata": {
        "id": "tXECnYbxStmn",
        "colab": {
          "base_uri": "https://localhost:8080/"
        },
        "outputId": "5648f6bc-c546-4e9b-a23d-c60e93bb7f15"
      },
      "source": [
        "while True: # 무한반복\n",
        "  a, b = map(int, input().split())\n",
        "  if a == 0 and b == 0: # 0 2개면 탈출\n",
        "    break\n",
        "  else:\n",
        "    print(a + b)"
      ],
      "execution_count": 5,
      "outputs": [
        {
          "name": "stdout",
          "output_type": "stream",
          "text": [
            "5 8\n",
            "13\n",
            "3 99\n",
            "102\n",
            "0 0\n"
          ]
        }
      ]
    },
    {
      "cell_type": "markdown",
      "metadata": {
        "id": "JCdIZ4RTS3XC"
      },
      "source": [
        "#2번"
      ]
    },
    {
      "cell_type": "code",
      "metadata": {
        "id": "XJm5GQ4iSycr",
        "colab": {
          "base_uri": "https://localhost:8080/"
        },
        "outputId": "94420041-9290-4857-90d5-2354062ba1cc"
      },
      "source": [
        "while True: \n",
        "  try:\n",
        "    a, b = map(int, input().split())\n",
        "    print(a + b)\n",
        "  except:\n",
        "    break # try, except를 사용해 오류를 예외 처리"
      ],
      "execution_count": 4,
      "outputs": [
        {
          "output_type": "stream",
          "name": "stdout",
          "text": [
            "1 1\n",
            "2\n",
            "2 2\n",
            "4\n",
            "3 3\n",
            "6\n"
          ]
        }
      ]
    },
    {
      "cell_type": "code",
      "metadata": {
        "colab": {
          "base_uri": "https://localhost:8080/"
        },
        "id": "IONhWj2Ue8DD",
        "outputId": "b87bedaf-0193-42a5-a278-79eff2e86a6a"
      },
      "source": [
        "# 풀이2\n",
        "try:\n",
        "  while True:\n",
        "    a, b = map(int, input().split())\n",
        "    print(a + b)\n",
        "except:\n",
        "  exit()"
      ],
      "execution_count": 6,
      "outputs": [
        {
          "output_type": "stream",
          "name": "stdout",
          "text": [
            "33 84\n",
            "117\n",
            "20 0\n",
            "20\n",
            "0 0\n",
            "0\n"
          ]
        }
      ]
    },
    {
      "cell_type": "markdown",
      "metadata": {
        "id": "xol1qkeeS7qn"
      },
      "source": [
        "#3번"
      ]
    },
    {
      "cell_type": "code",
      "metadata": {
        "colab": {
          "base_uri": "https://localhost:8080/"
        },
        "id": "aSE4_DOfS8eS",
        "outputId": "eb911b9c-b5eb-40d8-aa2e-78e5bb109ad4"
      },
      "source": [
        "N = int(input())\n",
        "\n",
        "num = N\n",
        "count = 0\n",
        "while True:\n",
        "    sum_num = (num // 10) + (num % 10)\n",
        "    new_num = ((num % 10) * 10) + (sum_num % 10)  \n",
        "    count += 1  \n",
        "    if new_num == N :\n",
        "        break\n",
        "    num = new_num  \n",
        "print(count)"
      ],
      "execution_count": 7,
      "outputs": [
        {
          "output_type": "stream",
          "name": "stdout",
          "text": [
            "22\n",
            "20\n"
          ]
        }
      ]
    }
  ]
}