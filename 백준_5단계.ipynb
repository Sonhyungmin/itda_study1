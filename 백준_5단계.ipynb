{
  "nbformat": 4,
  "nbformat_minor": 0,
  "metadata": {
    "colab": {
      "name": "백준 5단계",
      "provenance": [],
      "authorship_tag": "ABX9TyO1jemD8sA+5smEy7lqum8U",
      "include_colab_link": true
    },
    "kernelspec": {
      "name": "python3",
      "display_name": "Python 3"
    },
    "language_info": {
      "name": "python"
    }
  },
  "cells": [
    {
      "cell_type": "markdown",
      "metadata": {
        "id": "view-in-github",
        "colab_type": "text"
      },
      "source": [
        "<a href=\"https://colab.research.google.com/github/Sonhyungmin/itda_study1/blob/main/%EB%B0%B1%EC%A4%80_5%EB%8B%A8%EA%B3%84.ipynb\" target=\"_parent\"><img src=\"https://colab.research.google.com/assets/colab-badge.svg\" alt=\"Open In Colab\"/></a>"
      ]
    },
    {
      "cell_type": "markdown",
      "metadata": {
        "id": "rWWKUPQSTPLJ"
      },
      "source": [
        "#1번"
      ]
    },
    {
      "cell_type": "code",
      "metadata": {
        "id": "heSZOIJhTSHS",
        "colab": {
          "base_uri": "https://localhost:8080/"
        },
        "outputId": "c6b0ce0b-c365-42fa-aa83-97aea6feab9a"
      },
      "source": [
        "N = int(input())\n",
        "num_N = list(map(int, input().split()))\n",
        "max = num_N[0]\n",
        "min = num_N[0]\n",
        "\n",
        "for i in num_N[1:]:\n",
        "    if i > max:\n",
        "        max = i\n",
        "    elif i < min:\n",
        "        min = i\n",
        "print(min, max)"
      ],
      "execution_count": 1,
      "outputs": [
        {
          "output_type": "stream",
          "name": "stdout",
          "text": [
            "5\n",
            "20 10 35 30 7\n",
            "7 35\n"
          ]
        }
      ]
    },
    {
      "cell_type": "markdown",
      "metadata": {
        "id": "JRLMsIj0TWqS"
      },
      "source": [
        "#2번"
      ]
    },
    {
      "cell_type": "code",
      "metadata": {
        "id": "MzKLYKACTXiM",
        "colab": {
          "base_uri": "https://localhost:8080/"
        },
        "outputId": "c3c7b034-5e8e-4200-c437-cdbb1b33ac82"
      },
      "source": [
        "a = []\n",
        "for i in range(9):\n",
        "  a.append(int(input()))\n",
        "\n",
        "max = a[0]\n",
        "for j in a[1:]:\n",
        "    if j > max:\n",
        "        max = j\n",
        "    \n",
        "print(max)\n",
        "print(a.index(max)+1)"
      ],
      "execution_count": 2,
      "outputs": [
        {
          "output_type": "stream",
          "name": "stdout",
          "text": [
            "3\n",
            "29\n",
            "38\n",
            "12\n",
            "57\n",
            "74\n",
            "40\n",
            "85\n",
            "61\n",
            "85\n",
            "8\n"
          ]
        }
      ]
    },
    {
      "cell_type": "markdown",
      "metadata": {
        "id": "9ELkzTmZTbFa"
      },
      "source": [
        "#3번"
      ]
    },
    {
      "cell_type": "code",
      "metadata": {
        "id": "4kjmob1oTb3P",
        "colab": {
          "base_uri": "https://localhost:8080/"
        },
        "outputId": "b436d993-540b-49d3-b3da-45fe489601bd"
      },
      "source": [
        "a = int(input())\n",
        "b = int(input())\n",
        "c = int(input())\n",
        "num = str(a*b*c)\n",
        "for i in range(10):\n",
        "  print(num.count(str(i)))"
      ],
      "execution_count": 4,
      "outputs": [
        {
          "output_type": "stream",
          "name": "stdout",
          "text": [
            "150\n",
            "266\n",
            "427\n",
            "3\n",
            "1\n",
            "0\n",
            "2\n",
            "0\n",
            "0\n",
            "0\n",
            "2\n",
            "0\n",
            "0\n"
          ]
        }
      ]
    },
    {
      "cell_type": "markdown",
      "metadata": {
        "id": "xyoFwoumTfq8"
      },
      "source": [
        "#4번"
      ]
    },
    {
      "cell_type": "code",
      "metadata": {
        "id": "7QJl5wL_TgYd",
        "colab": {
          "base_uri": "https://localhost:8080/"
        },
        "outputId": "607c2da9-fc70-42ac-d24f-e4593aaa73fe"
      },
      "source": [
        "s = []\n",
        "for i in range(10):\n",
        "  a = int(input())\n",
        "  s.append(a % 42)\n",
        "\n",
        "result = []\n",
        "for j in s: \n",
        "  if j not in result: \n",
        "    result.append(j) \n",
        "    \n",
        "print(len(result))"
      ],
      "execution_count": 6,
      "outputs": [
        {
          "output_type": "stream",
          "name": "stdout",
          "text": [
            "42\n",
            "84\n",
            "252\n",
            "840\n",
            "126\n",
            "42\n",
            "84\n",
            "420\n",
            "126\n",
            "420\n",
            "1\n"
          ]
        }
      ]
    },
    {
      "cell_type": "markdown",
      "metadata": {
        "id": "otTDLcX6TkXs"
      },
      "source": [
        "#5번"
      ]
    },
    {
      "cell_type": "code",
      "metadata": {
        "id": "nUEkOC3NTlXJ",
        "colab": {
          "base_uri": "https://localhost:8080/"
        },
        "outputId": "3f6c83ed-89fb-4454-decc-5236eedd38ab"
      },
      "source": [
        "N = int(input())\n",
        "score = list(map(int, input().split()))\n",
        "M = score[0]\n",
        "sum = 0\n",
        "\n",
        "for j in score[1:]:\n",
        "  if j > M:\n",
        "    M = j\n",
        "  \n",
        "for i in range(N):\n",
        "  sum = sum + (int(score[i])/int(M)*100)\n",
        "\n",
        "print(sum/N)"
      ],
      "execution_count": 7,
      "outputs": [
        {
          "output_type": "stream",
          "name": "stdout",
          "text": [
            "3\n",
            "40 80 60\n",
            "75.0\n"
          ]
        }
      ]
    },
    {
      "cell_type": "markdown",
      "metadata": {
        "id": "YAX-vieETpgW"
      },
      "source": [
        "#6번"
      ]
    },
    {
      "cell_type": "code",
      "metadata": {
        "id": "ie4da92uTrCO",
        "colab": {
          "base_uri": "https://localhost:8080/"
        },
        "outputId": "41806c09-3762-4c51-8f03-2c60f00e1e1a"
      },
      "source": [
        "case = int(input())\n",
        "for i in range(case):\n",
        "    problem = list(map(str, input()))\n",
        "    problem_num = len(problem)\n",
        "    \n",
        "    for k in range(problem_num):\n",
        "        if problem[k] == \"O\":\n",
        "            if k != 0 and problem[k-1] != 0 :\n",
        "                problem[k] = problem[k-1] + 1\n",
        "            else:\n",
        "                problem[k] = 1\n",
        "        else:\n",
        "            problem[k] = 0\n",
        "    answer = 0\n",
        "    for i in problem:\n",
        "        answer += i\n",
        "    print(answer)\n",
        "\n",
        "\n"
      ],
      "execution_count": 9,
      "outputs": [
        {
          "output_type": "stream",
          "name": "stdout",
          "text": [
            "3\n",
            "OOXXOXXOOO\n",
            "10\n",
            "OOXXOOXXOO\n",
            "9\n",
            "OXOXOXOXOXOXOX\n",
            "7\n"
          ]
        }
      ]
    },
    {
      "cell_type": "markdown",
      "metadata": {
        "id": "reAbw1ftTujn"
      },
      "source": [
        "#7번"
      ]
    },
    {
      "cell_type": "code",
      "metadata": {
        "colab": {
          "base_uri": "https://localhost:8080/"
        },
        "id": "HBik-blgTzHJ",
        "outputId": "8dfee43a-fb54-4310-ce05-7543fcc666d7"
      },
      "source": [
        "n = int(input())\n",
        "\n",
        "for _ in range(n):\n",
        "    nums = list(map(int, input().split()))\n",
        "    avg = sum(nums[1:])/nums[0]  # 평균을 구함 (nums[0]: 학생수, nums[1:] 점수)\n",
        "    cnt = 0\n",
        "    for score in nums[1:]:\n",
        "        if score > avg:\n",
        "            cnt += 1  # 평균 이상인 학생 수\n",
        "    rate = cnt/nums[0] *100\n",
        "    print(f'{rate:.3f}%')"
      ],
      "execution_count": null,
      "outputs": [
        {
          "output_type": "stream",
          "name": "stdout",
          "text": [
            "2\n",
            "5 50 50 70 80 100\n",
            "40.000%\n",
            "7 100 95 90 80 40 60 50 \n",
            "57.143%\n"
          ]
        }
      ]
    }
  ]
}