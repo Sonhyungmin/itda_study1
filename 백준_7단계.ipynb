{
  "nbformat": 4,
  "nbformat_minor": 0,
  "metadata": {
    "colab": {
      "name": "백준_7단계",
      "provenance": [],
      "authorship_tag": "ABX9TyOLz7mt1zYzXSBzRh8XfDGZ",
      "include_colab_link": true
    },
    "kernelspec": {
      "name": "python3",
      "display_name": "Python 3"
    },
    "language_info": {
      "name": "python"
    }
  },
  "cells": [
    {
      "cell_type": "markdown",
      "metadata": {
        "id": "view-in-github",
        "colab_type": "text"
      },
      "source": [
        "<a href=\"https://colab.research.google.com/github/Sonhyungmin/itda_study1/blob/main/%EB%B0%B1%EC%A4%80_7%EB%8B%A8%EA%B3%84.ipynb\" target=\"_parent\"><img src=\"https://colab.research.google.com/assets/colab-badge.svg\" alt=\"Open In Colab\"/></a>"
      ]
    },
    {
      "cell_type": "markdown",
      "metadata": {
        "id": "8BYpJBMWTyPy"
      },
      "source": [
        "# 1번"
      ]
    },
    {
      "cell_type": "code",
      "metadata": {
        "colab": {
          "base_uri": "https://localhost:8080/"
        },
        "id": "P0a0fv5fPOdV",
        "outputId": "6f7d0762-e1e7-465e-dac3-96cdf85cf3c9"
      },
      "source": [
        "a = input()\n",
        "print(ord(a)) # ord()는 문자열을 아스키코드로 반환할 수 있는 함수"
      ],
      "execution_count": null,
      "outputs": [
        {
          "output_type": "stream",
          "name": "stdout",
          "text": [
            "a\n",
            "97\n"
          ]
        }
      ]
    },
    {
      "cell_type": "markdown",
      "metadata": {
        "id": "y0bK8dlnUS7j"
      },
      "source": [
        "# 2번"
      ]
    },
    {
      "cell_type": "code",
      "metadata": {
        "colab": {
          "base_uri": "https://localhost:8080/"
        },
        "id": "UfJVB79eUUU4",
        "outputId": "4e610ab9-6120-4a3d-bc8d-111755f17322"
      },
      "source": [
        "N = int(input())\n",
        "num =  int(input())\n",
        "new_num = 0\n",
        "for i in map(int, str(num)): # map은 리스트의 요소를 지정된 함수로 처리해주는 함수입니다(map은 원본 리스트를 변경하지 않고 새 리스트를 생성).\n",
        "  new_num += i\n",
        "\n",
        "print(new_num)"
      ],
      "execution_count": null,
      "outputs": [
        {
          "output_type": "stream",
          "name": "stdout",
          "text": [
            "5\n",
            "98765\n",
            "35\n"
          ]
        }
      ]
    },
    {
      "cell_type": "markdown",
      "metadata": {
        "id": "b7G5FZIQXuKj"
      },
      "source": [
        "# 3번"
      ]
    },
    {
      "cell_type": "code",
      "metadata": {
        "colab": {
          "base_uri": "https://localhost:8080/",
          "height": 266
        },
        "id": "uWCycPEPXvfX",
        "outputId": "191210da-22f6-4040-90e7-1f4882ed317b"
      },
      "source": [
        "S = input()\n",
        "A = [a, b, c, d, e, f, g, h, i, j, k, l, m, n, o, p, q, r, s, t, u, v, w, x, y, z]\n",
        "position = ''\n",
        "for i in range(26):\n",
        "  if A[i] in S:\n",
        "    position += str(i)\n",
        "  else:\n",
        "    position += '-1'\n",
        "print(position, end='')\n",
        "  \n",
        "# 비효율적인 코드긴 한데 저렇게 하면 안되는 이유가 뭐징"
      ],
      "execution_count": null,
      "outputs": [
        {
          "name": "stdout",
          "output_type": "stream",
          "text": [
            "ni\n"
          ]
        },
        {
          "output_type": "error",
          "ename": "NameError",
          "evalue": "ignored",
          "traceback": [
            "\u001b[0;31m---------------------------------------------------------------------------\u001b[0m",
            "\u001b[0;31mNameError\u001b[0m                                 Traceback (most recent call last)",
            "\u001b[0;32m<ipython-input-10-9be7492eef80>\u001b[0m in \u001b[0;36m<module>\u001b[0;34m()\u001b[0m\n\u001b[1;32m      1\u001b[0m \u001b[0mS\u001b[0m \u001b[0;34m=\u001b[0m \u001b[0minput\u001b[0m\u001b[0;34m(\u001b[0m\u001b[0;34m)\u001b[0m\u001b[0;34m\u001b[0m\u001b[0;34m\u001b[0m\u001b[0m\n\u001b[0;32m----> 2\u001b[0;31m \u001b[0mname\u001b[0m \u001b[0;34m=\u001b[0m \u001b[0;34m[\u001b[0m\u001b[0ma\u001b[0m\u001b[0;34m,\u001b[0m \u001b[0mc\u001b[0m\u001b[0;34m,\u001b[0m \u001b[0md\u001b[0m\u001b[0;34m,\u001b[0m \u001b[0me\u001b[0m\u001b[0;34m,\u001b[0m \u001b[0mf\u001b[0m\u001b[0;34m,\u001b[0m \u001b[0mg\u001b[0m\u001b[0;34m,\u001b[0m \u001b[0mh\u001b[0m\u001b[0;34m,\u001b[0m \u001b[0mi\u001b[0m\u001b[0;34m,\u001b[0m \u001b[0mj\u001b[0m\u001b[0;34m,\u001b[0m \u001b[0mk\u001b[0m\u001b[0;34m,\u001b[0m \u001b[0ml\u001b[0m\u001b[0;34m,\u001b[0m \u001b[0mm\u001b[0m\u001b[0;34m,\u001b[0m \u001b[0mn\u001b[0m\u001b[0;34m,\u001b[0m \u001b[0mo\u001b[0m\u001b[0;34m,\u001b[0m \u001b[0mp\u001b[0m\u001b[0;34m,\u001b[0m \u001b[0mq\u001b[0m\u001b[0;34m,\u001b[0m \u001b[0mr\u001b[0m\u001b[0;34m,\u001b[0m \u001b[0ms\u001b[0m\u001b[0;34m,\u001b[0m \u001b[0mt\u001b[0m\u001b[0;34m,\u001b[0m \u001b[0mu\u001b[0m\u001b[0;34m,\u001b[0m \u001b[0mv\u001b[0m\u001b[0;34m,\u001b[0m \u001b[0mw\u001b[0m\u001b[0;34m,\u001b[0m \u001b[0mx\u001b[0m\u001b[0;34m,\u001b[0m \u001b[0my\u001b[0m\u001b[0;34m,\u001b[0m \u001b[0mz\u001b[0m\u001b[0;34m]\u001b[0m\u001b[0;34m\u001b[0m\u001b[0;34m\u001b[0m\u001b[0m\n\u001b[0m\u001b[1;32m      3\u001b[0m \u001b[0mposition\u001b[0m \u001b[0;34m=\u001b[0m \u001b[0;34m[\u001b[0m\u001b[0;34m]\u001b[0m\u001b[0;34m\u001b[0m\u001b[0;34m\u001b[0m\u001b[0m\n\u001b[1;32m      4\u001b[0m \u001b[0;32mfor\u001b[0m \u001b[0mi\u001b[0m \u001b[0;32min\u001b[0m \u001b[0mrange\u001b[0m\u001b[0;34m(\u001b[0m\u001b[0;36m26\u001b[0m\u001b[0;34m)\u001b[0m\u001b[0;34m:\u001b[0m\u001b[0;34m\u001b[0m\u001b[0;34m\u001b[0m\u001b[0m\n\u001b[1;32m      5\u001b[0m   \u001b[0;32mif\u001b[0m \u001b[0mA\u001b[0m\u001b[0;34m[\u001b[0m\u001b[0mi\u001b[0m\u001b[0;34m]\u001b[0m \u001b[0;32min\u001b[0m \u001b[0mS\u001b[0m\u001b[0;34m:\u001b[0m\u001b[0;34m\u001b[0m\u001b[0;34m\u001b[0m\u001b[0m\n",
            "\u001b[0;31mNameError\u001b[0m: name 'c' is not defined"
          ]
        }
      ]
    },
    {
      "cell_type": "code",
      "metadata": {
        "colab": {
          "base_uri": "https://localhost:8080/"
        },
        "id": "8RB57bsFdT0_",
        "outputId": "506ebc1a-4819-43eb-ee3e-3128386db631"
      },
      "source": [
        "S = input()\n",
        "A = list(range(97, 123)) # 아스키코드 97번부터 122까지가 알파벳 a~z이기 때문에 알파벳 값을 리스트에 저장\n",
        "for i in A: \n",
        "  print(S.find(chr(i)), end=' ') \n",
        "  # find()함수는 찾는 문자가 없는 경우에 -1을 출력\n",
        "  # chr()함수는 아스키코드를 문자열로 변환하는 함수 ()안에 숫자를 넣으면 그 숫자의 아스키코드에 대응하는 문잔 반환\n",
        "  # end = ' '로 열을 행으로 출력하게 하고 공백 한 칸 출력"
      ],
      "execution_count": null,
      "outputs": [
        {
          "output_type": "stream",
          "name": "stdout",
          "text": [
            "baekjoon\n",
            "1 0 -1 -1 2 -1 -1 -1 -1 4 3 -1 -1 7 5 -1 -1 -1 -1 -1 -1 -1 -1 -1 -1 -1 "
          ]
        }
      ]
    },
    {
      "cell_type": "markdown",
      "metadata": {
        "id": "bY9dcuFEgWUH"
      },
      "source": [
        "# 4번"
      ]
    },
    {
      "cell_type": "code",
      "metadata": {
        "colab": {
          "base_uri": "https://localhost:8080/"
        },
        "id": "CVZno08mdK8g",
        "outputId": "500e9a69-53f2-482b-fa59-b05d4c0c6655"
      },
      "source": [
        "N = int(input())\n",
        "\n",
        "for _ in range(N):\n",
        "    count, word = input().split()\n",
        "    for x in word:\n",
        "        print(x*int(count), end='')  \n",
        "    print()  # 줄넘김"
      ],
      "execution_count": 72,
      "outputs": [
        {
          "output_type": "stream",
          "name": "stdout",
          "text": [
            "2\n",
            "3 ABC\n",
            "AAABBBCCC\n",
            "5 /HTTp\n",
            "/////HHHHHTTTTTTTTTTppppp\n"
          ]
        }
      ]
    },
    {
      "cell_type": "markdown",
      "metadata": {
        "id": "5MtB5eVnmKLS"
      },
      "source": [
        "# 5번"
      ]
    },
    {
      "cell_type": "code",
      "metadata": {
        "colab": {
          "base_uri": "https://localhost:8080/"
        },
        "id": "H7203-NCmLeK",
        "outputId": "6907a804-1218-4d1b-8605-a6a45ed5b929"
      },
      "source": [
        "word =input()\n",
        "new_wd = word.upper() # 모든 문자를 대문자 알파벳으로 변환 .upper() : 알파벳 대문자로 / .lower(): 알파벳 소문자로\n",
        "alphabet = ''\n",
        "count = 0\n",
        "a = list(range(65, 91)) # 아스크코드에서 대문자에 해당하는 수를 리스트로 저장\n",
        "for i in a:\n",
        "  if int(new_wd.count(chr(i))) > count: \n",
        "    alphabet = chr(i)\n",
        "    count = int(new_wd.count(chr(i)))\n",
        "  elif int(new_wd.count(chr(i))) == count:\n",
        "    alphabet = '?'\n",
        "print(alphabet)"
      ],
      "execution_count": 18,
      "outputs": [
        {
          "output_type": "stream",
          "name": "stdout",
          "text": [
            "ZZxZzbbNN\n",
            "Z\n"
          ]
        }
      ]
    },
    {
      "cell_type": "markdown",
      "metadata": {
        "id": "Xk1UyfkPmLtB"
      },
      "source": [
        "# 6번"
      ]
    },
    {
      "cell_type": "code",
      "metadata": {
        "colab": {
          "base_uri": "https://localhost:8080/"
        },
        "id": "vEUyrQNLmMtx",
        "outputId": "08fc24e2-da58-4b5b-b9b7-08d25f750a9a"
      },
      "source": [
        "sen = input()\n",
        "new = sen.split() # 공백을 기준으로 문자열 나눠서 리스트에 저장\n",
        "print(len(new))"
      ],
      "execution_count": 35,
      "outputs": [
        {
          "output_type": "stream",
          "name": "stdout",
          "text": [
            "the one\n",
            "2\n"
          ]
        }
      ]
    },
    {
      "cell_type": "markdown",
      "metadata": {
        "id": "fCT3tGqnmQ0I"
      },
      "source": [
        "# 7번"
      ]
    },
    {
      "cell_type": "code",
      "metadata": {
        "colab": {
          "base_uri": "https://localhost:8080/"
        },
        "id": "ejYZXh_wmSLc",
        "outputId": "2d479452-5de3-4874-c7e5-aca71a7ad961"
      },
      "source": [
        "a, b = input().split()\n",
        "re_a = a[::-1] #문자열 슬라이싱을 이용해 역순으로 저장\n",
        "re_b = b[::-1]\n",
        "num =''\n",
        "if int(re_a) > int(re_b):\n",
        "  print(re_a)\n",
        "else:\n",
        "  print(re_b)"
      ],
      "execution_count": 50,
      "outputs": [
        {
          "output_type": "stream",
          "name": "stdout",
          "text": [
            "123 456\n",
            "654\n"
          ]
        }
      ]
    },
    {
      "cell_type": "markdown",
      "metadata": {
        "id": "HMjX8cggmSa-"
      },
      "source": [
        "# 8번"
      ]
    },
    {
      "cell_type": "code",
      "metadata": {
        "colab": {
          "base_uri": "https://localhost:8080/"
        },
        "id": "wrvKkWucmTQj",
        "outputId": "fc143b8d-d2da-45d8-9802-d8de42060cf5"
      },
      "source": [
        "dial = ['ABC', 'DEF', 'GHI', 'JKL', 'MNO', 'PQRS', 'TUV', 'WXYZ']\n",
        "sen = input()\n",
        "sec = 0\n",
        "\n",
        "for i in range(len(sen)):\n",
        "    for j in dial:\n",
        "        if sen[i] in j:\n",
        "            sec += dial.index(j) + 3 #ndex(x) 함수는 리스트에 x 값이 있으면 x의 위치 값을 돌려줌\n",
        "\n",
        "print(sec)\n"
      ],
      "execution_count": 65,
      "outputs": [
        {
          "output_type": "stream",
          "name": "stdout",
          "text": [
            "WA\n",
            "13\n"
          ]
        }
      ]
    },
    {
      "cell_type": "markdown",
      "metadata": {
        "id": "EBHoJb6LmTi8"
      },
      "source": [
        "# 9번"
      ]
    },
    {
      "cell_type": "code",
      "metadata": {
        "colab": {
          "base_uri": "https://localhost:8080/"
        },
        "id": "y_fB0Fa3mUdJ",
        "outputId": "f6655f6f-ae44-4e4e-b95e-84200e730fcb"
      },
      "source": [
        "croatia = ['c=', 'c-', 'dz=', 'd-', 'lj', 'nj', 's=', 'z=']\n",
        "word = input()\n",
        "\n",
        "for i in croatia :\n",
        "    word = word.replace(i, '*')  # input 변수와 동일한 이름의 변수\n",
        "#replace는 문자열을 변경하는 함수이다. 문자열 안에서 특정 문자를 새로운 문자로 변경하는 기능을 가지고 있다. 사용 방법은 '변수. replace(old, new, [count])' 형식으로 사용\n",
        "#old : 현재 문자열에서 변경하고 싶은 문자\n",
        "#new: 새로 바꿀 문자\n",
        "#count: 변경할 횟수. 횟수는 입력하지 않으면 old의 문자열 전체를 변경한다. 기본값은 전체를 의미하는 count=-1로 지정되어있음\n",
        "print(len(word))"
      ],
      "execution_count": 69,
      "outputs": [
        {
          "output_type": "stream",
          "name": "stdout",
          "text": [
            "ddz=z=\n",
            "3\n"
          ]
        }
      ]
    },
    {
      "cell_type": "markdown",
      "metadata": {
        "id": "PszI-1jBmUux"
      },
      "source": [
        "# 10번"
      ]
    },
    {
      "cell_type": "code",
      "metadata": {
        "colab": {
          "base_uri": "https://localhost:8080/"
        },
        "id": "sYtZ48ekmVmm",
        "outputId": "edf1b0f9-5b8b-47ae-f2f8-384b30f86578"
      },
      "source": [
        "n = int(input())\n",
        "\n",
        "group_word = 0\n",
        "for _ in range(n):\n",
        "    word = input()\n",
        "    error = 0\n",
        "    for index in range(len(word)-1):  # 인덱스 범위 생성 : 0부터 단어개수 -1까지 \n",
        "        if word[index] != word[index+1]:  # 연달은 두 문자가 다른 때,\n",
        "            new_word = word[index+1:]  # 현재글자 이후 문자열을 새로운 단어로 생성\n",
        "            if new_word.count(word[index]) > 0:  # 남은 문자열에서 현재글자가 있있다면\n",
        "                error += 1  # error에 1씩 증가.\n",
        "    if error == 0:  \n",
        "        group_word += 1  # error가 0이면 그룹단어\n",
        "print(group_word)"
      ],
      "execution_count": 70,
      "outputs": [
        {
          "output_type": "stream",
          "name": "stdout",
          "text": [
            "3\n",
            "gappy\n",
            "new\n",
            "year\n",
            "3\n"
          ]
        }
      ]
    }
  ]
}