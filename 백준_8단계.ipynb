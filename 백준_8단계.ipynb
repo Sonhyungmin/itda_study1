{
  "nbformat": 4,
  "nbformat_minor": 0,
  "metadata": {
    "colab": {
      "name": "백준_8단계",
      "provenance": [],
      "authorship_tag": "ABX9TyM1gx/N5N+ZMc3P+ENAw09V",
      "include_colab_link": true
    },
    "kernelspec": {
      "name": "python3",
      "display_name": "Python 3"
    },
    "language_info": {
      "name": "python"
    }
  },
  "cells": [
    {
      "cell_type": "markdown",
      "metadata": {
        "id": "view-in-github",
        "colab_type": "text"
      },
      "source": [
        "<a href=\"https://colab.research.google.com/github/Sonhyungmin/itda_study1/blob/main/%EB%B0%B1%EC%A4%80_8%EB%8B%A8%EA%B3%84.ipynb\" target=\"_parent\"><img src=\"https://colab.research.google.com/assets/colab-badge.svg\" alt=\"Open In Colab\"/></a>"
      ]
    },
    {
      "cell_type": "markdown",
      "source": [
        "# 1번"
      ],
      "metadata": {
        "id": "0Rlp8H6MiMgN"
      }
    },
    {
      "cell_type": "code",
      "source": [
        "a, b, c = map(int, input().split())\n",
        "if b >= c:  # 가변비용이 노트북 가격보다 같거나 크면\n",
        "    print(-1)\n",
        "else:\n",
        "    print(a//(c-b)+1) # 손익분기점 구하는 식"
      ],
      "metadata": {
        "colab": {
          "base_uri": "https://localhost:8080/"
        },
        "id": "qcossTdOkHUw",
        "outputId": "485d04be-815b-4678-8444-a0b00ac31545"
      },
      "execution_count": 10,
      "outputs": [
        {
          "output_type": "stream",
          "name": "stdout",
          "text": [
            "1000 70 170\n",
            "11\n"
          ]
        }
      ]
    },
    {
      "cell_type": "markdown",
      "source": [
        "#2번"
      ],
      "metadata": {
        "id": "9qaLCpz1iPBw"
      }
    },
    {
      "cell_type": "code",
      "source": [
        "N = int(input())\n",
        "count = 1\n",
        "while N > 1:\n",
        "  N -= count*6 # 벌집 모양의 특성 6의 배수로 한칸씩 늘어난다고 해야하나..? \n",
        "  count += 1 \n",
        "print(count)"
      ],
      "metadata": {
        "colab": {
          "base_uri": "https://localhost:8080/"
        },
        "id": "AtnkG0I-kH7j",
        "outputId": "889939a8-719b-47a3-e128-30d2d4909bf2"
      },
      "execution_count": 11,
      "outputs": [
        {
          "output_type": "stream",
          "name": "stdout",
          "text": [
            "13\n",
            "3\n"
          ]
        }
      ]
    },
    {
      "cell_type": "markdown",
      "source": [
        "#3번"
      ],
      "metadata": {
        "id": "ozP_45xDiQGS"
      }
    },
    {
      "cell_type": "code",
      "source": [
        "input_num = int(input())\n",
        "\n",
        "line = 0  # 사선 라인\n",
        "max_num = 0  # 입력된 숫자(input_num 변수)의 라인에서 가장 큰 숫자\n",
        "while input_num > max_num:\n",
        "    line += 1  \n",
        "    max_num += line  \n",
        "\n",
        "gap = max_num - input_num \n",
        "if line % 2 == 0:  # 사선 라인이 짝수번째 일 때\n",
        "    top = line - gap  #분자\n",
        "    under = gap + 1  #분모\n",
        "else :  # 사선 라인이 홀수번째 일 때\n",
        "    top = gap + 1  #분자\n",
        "    under = line - gap  #분모\n",
        "print(f'{top}/{under}')"
      ],
      "metadata": {
        "id": "gPJWxmtwkIdM"
      },
      "execution_count": null,
      "outputs": []
    },
    {
      "cell_type": "markdown",
      "source": [
        "#4번"
      ],
      "metadata": {
        "id": "UJteG6qmjtFi"
      }
    },
    {
      "cell_type": "code",
      "source": [
        "A , B,  V = map(int, input().split())\n",
        "day = 0\n",
        "distance = 0\n",
        "while True:\n",
        "  day += 1\n",
        "  distance += A\n",
        "  if distance == V:\n",
        "    print(day)\n",
        "    break\n",
        "  distance -= b\n",
        "print(day)"
      ],
      "metadata": {
        "colab": {
          "base_uri": "https://localhost:8080/",
          "height": 266
        },
        "id": "UL01QkSTkJJC",
        "outputId": "d4410dbd-d2d7-49a3-cb63-31fc7cc81b63"
      },
      "execution_count": 20,
      "outputs": [
        {
          "name": "stdout",
          "output_type": "stream",
          "text": [
            "2 1 5\n"
          ]
        },
        {
          "output_type": "error",
          "ename": "KeyboardInterrupt",
          "evalue": "ignored",
          "traceback": [
            "\u001b[0;31m---------------------------------------------------------------------------\u001b[0m",
            "\u001b[0;31mKeyboardInterrupt\u001b[0m                         Traceback (most recent call last)",
            "\u001b[0;32m<ipython-input-20-3495f44eef7b>\u001b[0m in \u001b[0;36m<module>\u001b[0;34m()\u001b[0m\n\u001b[1;32m      3\u001b[0m \u001b[0mdistance\u001b[0m \u001b[0;34m=\u001b[0m \u001b[0;36m0\u001b[0m\u001b[0;34m\u001b[0m\u001b[0;34m\u001b[0m\u001b[0m\n\u001b[1;32m      4\u001b[0m \u001b[0;32mwhile\u001b[0m \u001b[0;32mTrue\u001b[0m\u001b[0;34m:\u001b[0m\u001b[0;34m\u001b[0m\u001b[0;34m\u001b[0m\u001b[0m\n\u001b[0;32m----> 5\u001b[0;31m   \u001b[0mday\u001b[0m \u001b[0;34m+=\u001b[0m \u001b[0;36m1\u001b[0m\u001b[0;34m\u001b[0m\u001b[0;34m\u001b[0m\u001b[0m\n\u001b[0m\u001b[1;32m      6\u001b[0m   \u001b[0mdistance\u001b[0m \u001b[0;34m+=\u001b[0m \u001b[0mA\u001b[0m\u001b[0;34m\u001b[0m\u001b[0;34m\u001b[0m\u001b[0m\n\u001b[1;32m      7\u001b[0m   \u001b[0;32mif\u001b[0m \u001b[0mdistance\u001b[0m \u001b[0;34m==\u001b[0m \u001b[0mV\u001b[0m\u001b[0;34m:\u001b[0m\u001b[0;34m\u001b[0m\u001b[0;34m\u001b[0m\u001b[0m\n",
            "\u001b[0;31mKeyboardInterrupt\u001b[0m: "
          ]
        }
      ]
    },
    {
      "cell_type": "code",
      "source": [
        "import math\n",
        "\n",
        "a, b, v = map(int, input().split())\n",
        "# a= 올라가는 길이, b= 떨어지는길이, v= 나무높이 \n",
        "\n",
        "day = math.ceil((v-a)/(a-b)) + 1 \n",
        "#math.ceil(x) x보다 크거나 같은 가장 작은 정수인 x의 천장값(ceiling)을 반환. x가 float가 아니면, x.__ceil__()에 위임하고, 이것은 Integral 값을 반환.\n",
        "# (a-b)*n + a = v\n",
        "print(day)"
      ],
      "metadata": {
        "colab": {
          "base_uri": "https://localhost:8080/"
        },
        "id": "SBchyrAIGPSF",
        "outputId": "a38839ff-a3bc-4e1e-a1c6-946d1750edf3"
      },
      "execution_count": 21,
      "outputs": [
        {
          "output_type": "stream",
          "name": "stdout",
          "text": [
            "2 1 5\n",
            "4\n"
          ]
        }
      ]
    },
    {
      "cell_type": "markdown",
      "source": [
        "#5번"
      ],
      "metadata": {
        "id": "wq-L-PCrjuDA"
      }
    },
    {
      "cell_type": "code",
      "source": [
        "t = int(input())\n",
        "\n",
        "for i in range(t):\n",
        "    h, w, n = map(int, input().split())\n",
        "    num = n//h + 1\n",
        "    floor = n % h\n",
        "    if n % h == 0:  # h의 배수이면,\n",
        "        num = n//h\n",
        "        floor = h\n",
        "    print(f'{floor*100+num}')"
      ],
      "metadata": {
        "colab": {
          "base_uri": "https://localhost:8080/"
        },
        "id": "-vqpUepjkJtx",
        "outputId": "d73426d5-2f24-477e-9e6a-7d15e663413c"
      },
      "execution_count": 24,
      "outputs": [
        {
          "output_type": "stream",
          "name": "stdout",
          "text": [
            "2\n",
            "6 12 10\n",
            "402\n",
            "30 50 72\n",
            "1203\n"
          ]
        }
      ]
    },
    {
      "cell_type": "markdown",
      "source": [
        "#6번"
      ],
      "metadata": {
        "id": "aaxEsJuVjvSW"
      }
    },
    {
      "cell_type": "code",
      "source": [
        "t = int(input())\n",
        "\n",
        "for _ in range(t):  \n",
        "    floor = int(input())  # 층\n",
        "    num = int(input())  # 호\n",
        "    f0 = [x for x in range(1, num+1)]  # 0층 리스트\n",
        "    for k in range(floor):  # 층 수 만큼 반복\n",
        "        for i in range(1, num):  # 1 ~ n-1까지 (인덱스로 사용)\n",
        "            f0[i] += f0[i-1]  # 층별 각 호실의 사람 수를 변경\n",
        "    print(f0[-1])  # 가장 마지막 수 출력\n",
        " "
      ],
      "metadata": {
        "colab": {
          "base_uri": "https://localhost:8080/"
        },
        "id": "wxxhjgsOkKft",
        "outputId": "c5221533-a0bd-44ee-faf7-3a10293bbd74"
      },
      "execution_count": 58,
      "outputs": [
        {
          "output_type": "stream",
          "name": "stdout",
          "text": [
            "2\n",
            "1\n",
            "3\n",
            "6\n",
            "2\n",
            "3\n",
            "10\n"
          ]
        }
      ]
    },
    {
      "cell_type": "markdown",
      "source": [
        "#7번"
      ],
      "metadata": {
        "id": "J_GIcWsojweI"
      }
    },
    {
      "cell_type": "code",
      "source": [
        "n = int(input())\n",
        "bag = 0\n",
        "while n >= 0:\n",
        "  if n % 5 == 0:\n",
        "    bag += n // 5\n",
        "    print(bag)\n",
        "    break\n",
        "  n -= 3\n",
        "  bag += 1\n",
        "else:\n",
        "  print(-1)"
      ],
      "metadata": {
        "colab": {
          "base_uri": "https://localhost:8080/"
        },
        "id": "Hcc_rt58kLOL",
        "outputId": "fe7dc85a-b2cc-4035-8e1a-242bfaeb53c8"
      },
      "execution_count": 57,
      "outputs": [
        {
          "output_type": "stream",
          "name": "stdout",
          "text": [
            "4\n",
            "-1\n"
          ]
        }
      ]
    },
    {
      "cell_type": "markdown",
      "source": [
        "#8번"
      ],
      "metadata": {
        "id": "DcNfNMP7jxt0"
      }
    },
    {
      "cell_type": "code",
      "source": [
        "a, b = map(int, input().split())\n",
        "print(a + b)"
      ],
      "metadata": {
        "colab": {
          "base_uri": "https://localhost:8080/"
        },
        "id": "X5ojEfBGkMG5",
        "outputId": "b7385ee0-a003-453a-cfc9-491f7711d67f"
      },
      "execution_count": 14,
      "outputs": [
        {
          "output_type": "stream",
          "name": "stdout",
          "text": [
            "1234445454 55866515132\n",
            "57100960586\n"
          ]
        }
      ]
    },
    {
      "cell_type": "markdown",
      "source": [
        "#9번"
      ],
      "metadata": {
        "id": "jx1gClADjz-B"
      }
    },
    {
      "cell_type": "code",
      "source": [
        "T = int(input())\n",
        "for i in range(T):\n",
        "  x, y = map(int, input().split())\n",
        "  distance = y - x\n",
        "  count = 0  # 이동 횟수\n",
        "  move = 1  # count별 이동 가능한 거리\n",
        "  move_plus = 0  # 이동한 거리의 합\n",
        "  while move_plus < distance :\n",
        "    count += 1\n",
        "    move_plus += move  # count 수에 해당하는 move를 더함\n",
        "    if count % 2 == 0 :  # count가 2의 배수일 때, \n",
        "        move += 1  \n",
        "  print(count)"
      ],
      "metadata": {
        "colab": {
          "base_uri": "https://localhost:8080/"
        },
        "id": "sgOjiZW2kGlR",
        "outputId": "5035a7ca-3a37-4f25-8eed-8257028f2581"
      },
      "execution_count": 17,
      "outputs": [
        {
          "output_type": "stream",
          "name": "stdout",
          "text": [
            "3\n",
            "0 3\n",
            "3\n",
            "0 5\n",
            "4\n",
            "45 50\n",
            "4\n"
          ]
        }
      ]
    },
    {
      "cell_type": "code",
      "source": [
        ""
      ],
      "metadata": {
        "id": "8KsDQyddkGoi"
      },
      "execution_count": null,
      "outputs": []
    },
    {
      "cell_type": "code",
      "execution_count": null,
      "metadata": {
        "id": "zWIBit9SiJWl"
      },
      "outputs": [],
      "source": [
        ""
      ]
    }
  ]
}