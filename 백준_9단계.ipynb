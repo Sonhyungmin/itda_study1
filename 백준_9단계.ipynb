{
  "nbformat": 4,
  "nbformat_minor": 0,
  "metadata": {
    "colab": {
      "name": "백준_9단계",
      "provenance": [],
      "authorship_tag": "ABX9TyP5kJKKwYbXL1KOXx4vz9pa",
      "include_colab_link": true
    },
    "kernelspec": {
      "name": "python3",
      "display_name": "Python 3"
    },
    "language_info": {
      "name": "python"
    }
  },
  "cells": [
    {
      "cell_type": "markdown",
      "metadata": {
        "id": "view-in-github",
        "colab_type": "text"
      },
      "source": [
        "<a href=\"https://colab.research.google.com/github/Sonhyungmin/itda_study1/blob/main/%EB%B0%B1%EC%A4%80_9%EB%8B%A8%EA%B3%84.ipynb\" target=\"_parent\"><img src=\"https://colab.research.google.com/assets/colab-badge.svg\" alt=\"Open In Colab\"/></a>"
      ]
    },
    {
      "cell_type": "markdown",
      "source": [
        "# 1번"
      ],
      "metadata": {
        "id": "UrwSwnl35Xbv"
      }
    },
    {
      "cell_type": "code",
      "execution_count": 5,
      "metadata": {
        "id": "gIB7pgS75Ld1",
        "colab": {
          "base_uri": "https://localhost:8080/"
        },
        "outputId": "a26dca00-ecb2-4ec8-c82f-a879877991cf"
      },
      "outputs": [
        {
          "output_type": "stream",
          "name": "stdout",
          "text": [
            "4\n",
            "1 3 5 7\n",
            "3\n"
          ]
        }
      ],
      "source": [
        "n = int(input())\n",
        "number = map(int, input().split())\n",
        "main_num = 0\n",
        "for num in number:\n",
        "    error = 0\n",
        "    if num > 1 :\n",
        "        for i in range(2, num):  # 2부터 n-1까지\n",
        "            if num % i == 0:\n",
        "                error += 1  # 2부터 n-1까지 나눈 몫이 0이면 error가 증가\n",
        "        if error == 0:\n",
        "            main_num += 1  # error가 없으면 소수.\n",
        "print(main_num)"
      ]
    },
    {
      "cell_type": "markdown",
      "source": [
        "#2번"
      ],
      "metadata": {
        "id": "XoC_VIpR5af9"
      }
    },
    {
      "cell_type": "code",
      "source": [
        "M = int(input())\n",
        "N = int(input())\n",
        "sosu = []\n",
        "for num in range(M, N+1):\n",
        "  error = 0\n",
        "  if num>1:\n",
        "    for i in range(2, num):\n",
        "      if num % i == 0:\n",
        "        error += 1\n",
        "        break\n",
        "    if error == 0:\n",
        "      sosu.append(num)\n",
        "\n",
        "if len(sosu) > 0 :\n",
        "    print(sum(sosu))\n",
        "    print(min(sosu))\n",
        "else:\n",
        "    print(-1)"
      ],
      "metadata": {
        "colab": {
          "base_uri": "https://localhost:8080/",
          "height": 284
        },
        "id": "QV5j1Ga_IqRl",
        "outputId": "a146fc84-1856-4cc9-e9f0-bab67ab3258f"
      },
      "execution_count": 11,
      "outputs": [
        {
          "name": "stdout",
          "output_type": "stream",
          "text": [
            "60\n",
            "100\n"
          ]
        },
        {
          "output_type": "error",
          "ename": "TypeError",
          "evalue": "ignored",
          "traceback": [
            "\u001b[0;31m---------------------------------------------------------------------------\u001b[0m",
            "\u001b[0;31mTypeError\u001b[0m                                 Traceback (most recent call last)",
            "\u001b[0;32m<ipython-input-11-3813d51cbba6>\u001b[0m in \u001b[0;36m<module>\u001b[0;34m()\u001b[0m\n\u001b[1;32m     13\u001b[0m \u001b[0;34m\u001b[0m\u001b[0m\n\u001b[1;32m     14\u001b[0m \u001b[0;32mif\u001b[0m \u001b[0mlen\u001b[0m\u001b[0;34m(\u001b[0m\u001b[0msosu\u001b[0m\u001b[0;34m)\u001b[0m \u001b[0;34m>\u001b[0m \u001b[0;36m0\u001b[0m \u001b[0;34m:\u001b[0m\u001b[0;34m\u001b[0m\u001b[0;34m\u001b[0m\u001b[0m\n\u001b[0;32m---> 15\u001b[0;31m     \u001b[0mprint\u001b[0m\u001b[0;34m(\u001b[0m\u001b[0msum\u001b[0m\u001b[0;34m(\u001b[0m\u001b[0msosu\u001b[0m\u001b[0;34m)\u001b[0m\u001b[0;34m)\u001b[0m\u001b[0;34m\u001b[0m\u001b[0;34m\u001b[0m\u001b[0m\n\u001b[0m\u001b[1;32m     16\u001b[0m     \u001b[0mprint\u001b[0m\u001b[0;34m(\u001b[0m\u001b[0mmin\u001b[0m\u001b[0;34m(\u001b[0m\u001b[0msosu\u001b[0m\u001b[0;34m)\u001b[0m\u001b[0;34m)\u001b[0m\u001b[0;34m\u001b[0m\u001b[0;34m\u001b[0m\u001b[0m\n\u001b[1;32m     17\u001b[0m \u001b[0;32melse\u001b[0m\u001b[0;34m:\u001b[0m\u001b[0;34m\u001b[0m\u001b[0;34m\u001b[0m\u001b[0m\n",
            "\u001b[0;31mTypeError\u001b[0m: 'int' object is not callable"
          ]
        }
      ]
    },
    {
      "cell_type": "code",
      "source": [
        "M = int(input())\n",
        "N = int(input())\n",
        "sosu = []\n",
        "for num in range(M, N+1):\n",
        "  error = 0\n",
        "  if num>1:\n",
        "    for i in range(2, num):\n",
        "      if num % i == 0:\n",
        "        error += 1\n",
        "        break\n",
        "    if error == 0:\n",
        "      sosu.append(num)\n",
        "sum=0\n",
        "for j in range(len(sosu)):\n",
        "  sum += int(sosu[j])\n",
        "if len(sosu) > 0 :\n",
        "    print(sum)\n",
        "    print(sosu[0])\n",
        "else:\n",
        "    print(-1)"
      ],
      "metadata": {
        "id": "TjTPkVMz5by7",
        "colab": {
          "base_uri": "https://localhost:8080/"
        },
        "outputId": "bcb03135-1ff8-4b3e-a66d-37a8fb552ce7"
      },
      "execution_count": 10,
      "outputs": [
        {
          "output_type": "stream",
          "name": "stdout",
          "text": [
            "60\n",
            "100\n",
            "620\n",
            "61\n"
          ]
        }
      ]
    },
    {
      "cell_type": "markdown",
      "source": [
        "#3번"
      ],
      "metadata": {
        "id": "lnQhMFUZ5cKH"
      }
    },
    {
      "cell_type": "code",
      "source": [
        "N = int(input())\n",
        "if N == 1:\n",
        "  print('')\n",
        "for i in range(2, N+1):\n",
        "  if N % i == 0:\n",
        "    while N % i == 0:\n",
        "      print(i)\n",
        "      N = N / i"
      ],
      "metadata": {
        "id": "Bqg01rSE5dPp",
        "colab": {
          "base_uri": "https://localhost:8080/"
        },
        "outputId": "0e5ff138-82d8-403e-ed31-7b3844953879"
      },
      "execution_count": 12,
      "outputs": [
        {
          "output_type": "stream",
          "name": "stdout",
          "text": [
            "72\n",
            "2\n",
            "2\n",
            "2\n",
            "3\n",
            "3\n"
          ]
        }
      ]
    },
    {
      "cell_type": "markdown",
      "source": [
        "#4번"
      ],
      "metadata": {
        "id": "GNV8binx5d9-"
      }
    },
    {
      "cell_type": "code",
      "source": [
        "M ,N = map(int, input().split())\n",
        "for num in range(M, N+1):\n",
        "  error = 0\n",
        "  if num>1:\n",
        "    for i in range(2, num):\n",
        "      if num % i == 0:\n",
        "        error += 1\n",
        "        break\n",
        "    if error == 0:\n",
        "      print(num)"
      ],
      "metadata": {
        "id": "pZ85gRN75yID",
        "colab": {
          "base_uri": "https://localhost:8080/"
        },
        "outputId": "44231379-4b5b-4296-f4d5-ac660015916a"
      },
      "execution_count": 15,
      "outputs": [
        {
          "output_type": "stream",
          "name": "stdout",
          "text": [
            "3 16\n",
            "3\n",
            "5\n",
            "7\n",
            "11\n",
            "13\n"
          ]
        }
      ]
    },
    {
      "cell_type": "code",
      "source": [
        "M ,N = map(int, input().split())\n",
        "for num in range(M, N+1):\n",
        "  if num>1:\n",
        "    for i in range(2, num):\n",
        "      if num % i == 0:\n",
        "        break\n",
        "    if num % i != 0:\n",
        "      print(num)"
      ],
      "metadata": {
        "colab": {
          "base_uri": "https://localhost:8080/"
        },
        "id": "MNdz6RuBWDYv",
        "outputId": "7015a3d8-d562-4682-b61a-05734c14eb4a"
      },
      "execution_count": 24,
      "outputs": [
        {
          "output_type": "stream",
          "name": "stdout",
          "text": [
            "3 16\n",
            "3\n",
            "5\n",
            "7\n",
            "11\n",
            "13\n"
          ]
        }
      ]
    },
    {
      "cell_type": "code",
      "source": [
        "def sosu(num):\n",
        "    if num==1:\n",
        "        return False\n",
        "    else:\n",
        "        for i in range(2, int(num**0.5)+1):\n",
        "            if num%i == 0:\n",
        "                return False\n",
        "        return True\n",
        "\n",
        "M, N = map(int, input().split())\n",
        "\n",
        "for i in range(M, N+1):\n",
        "    if sosu(i):\n",
        "        print(i)\n",
        " "
      ],
      "metadata": {
        "colab": {
          "base_uri": "https://localhost:8080/"
        },
        "id": "2MHjqkULeE2E",
        "outputId": "10d18da5-24b7-4647-eb65-fb9bdc5c264a"
      },
      "execution_count": 31,
      "outputs": [
        {
          "output_type": "stream",
          "name": "stdout",
          "text": [
            "3 16\n",
            "3\n",
            "5\n",
            "7\n",
            "11\n",
            "13\n"
          ]
        }
      ]
    },
    {
      "cell_type": "markdown",
      "source": [
        "#5번"
      ],
      "metadata": {
        "id": "2BTDzWun5yiH"
      }
    },
    {
      "cell_type": "code",
      "source": [
        "import math\n",
        "\n",
        "# 소수의 집합을 구함\n",
        "nums = {x for x in range(2, 246_913) if x == 2 or x % 2 ==1} # 문제에서 제시한 제한 범위\n",
        "# nums = 2와 홀수로 이루어진 집합\n",
        "for odd_num in range(3, int(math.sqrt(246_912))+1, 2):  # 3부터 최대값의 제곱근까지 홀수만\n",
        "    nums -= {i for i in range(2 * odd_num, 246_913, odd_num) if i in nums}\n",
        "    # 홀수의 배수로 이루어진 집합을 생성해서 빼줌\n",
        "\n",
        "# 반복문 만들기\n",
        "while True:\n",
        "    n = int(input())\n",
        "    if n == 0:\n",
        "        break  # n == 0 이면 반복문을 끝냄\n",
        "    sosu_list = [i for i in range(n+1, 2*n+1) if i in nums]\n",
        "    # 소수 집합(nums)안에서 n보다 크고 2*n보다 작거나 같은 수의 리스트를 생성\n",
        "    print(len(sosu_list))"
      ],
      "metadata": {
        "colab": {
          "base_uri": "https://localhost:8080/"
        },
        "id": "p-OgN8N1uLo6",
        "outputId": "b5eef233-4a4d-4e80-d1e0-0fb869911ece"
      },
      "execution_count": 36,
      "outputs": [
        {
          "name": "stdout",
          "output_type": "stream",
          "text": [
            "1\n",
            "1\n",
            "104\n",
            "19\n",
            "10\n",
            "4\n",
            "13\n",
            "3\n",
            "100\n",
            "21\n",
            "0\n"
          ]
        }
      ]
    },
    {
      "cell_type": "markdown",
      "source": [
        "#6번"
      ],
      "metadata": {
        "id": "6xdCZbbi50GB"
      }
    },
    {
      "cell_type": "code",
      "source": [
        "nums = {x for x in range(2, 10_001) if x == 2 or x % 2 == 1}\n",
        "for odd in range(3, 101, 2): \n",
        "    nums -= {i for i in range(2 * odd, 10_001, odd) if i in nums}\n",
        "t = int(input())\n",
        "for _ in range(t):\n",
        "    even = int(input())\n",
        "    half = even//2  \n",
        "    for x in range(half, 1, -1): \n",
        "        if (even-x in nums) and (x in nums):  \n",
        "            print(x, even-x)  \n",
        "            break"
      ],
      "metadata": {
        "id": "ekyB5AuE51Nu",
        "colab": {
          "base_uri": "https://localhost:8080/"
        },
        "outputId": "29f52c74-5b04-4138-c069-aa99d9894f88"
      },
      "execution_count": 37,
      "outputs": [
        {
          "output_type": "stream",
          "name": "stdout",
          "text": [
            "3\n",
            "8\n",
            "3 5\n",
            "10\n",
            "5 5\n",
            "16\n",
            "5 11\n"
          ]
        }
      ]
    },
    {
      "cell_type": "markdown",
      "source": [
        "#7번"
      ],
      "metadata": {
        "id": "ZNI5tkz451lk"
      }
    },
    {
      "cell_type": "code",
      "source": [
        "x, y, w, h = map(int, input().split())\n",
        "print(min(x, w-x, y, h-y))"
      ],
      "metadata": {
        "id": "cx9mku4Z52ol",
        "colab": {
          "base_uri": "https://localhost:8080/"
        },
        "outputId": "5d28ce4d-89e0-404f-d786-9f7a1b051037"
      },
      "execution_count": 38,
      "outputs": [
        {
          "output_type": "stream",
          "name": "stdout",
          "text": [
            "6 2 10 3\n",
            "1\n"
          ]
        }
      ]
    },
    {
      "cell_type": "markdown",
      "source": [
        "#8번"
      ],
      "metadata": {
        "id": "riG0J2S753GV"
      }
    },
    {
      "cell_type": "code",
      "source": [
        "x1, y1 = map(int, input().split())\n",
        "x2, y2 = map(int, input().split())\n",
        "x3, y3 = map(int, input().split())\n",
        "\n",
        "if x1 == x2:\n",
        "    x4 = x3\n",
        "elif x1 == x3:\n",
        "    x4 = x2\n",
        "else:\n",
        "    x4 = x1\n",
        "\n",
        "if y1 == y2:\n",
        "    y4 = y3\n",
        "elif y1 == y3:\n",
        "    y4 = y2\n",
        "else:\n",
        "    y4 = y1\n",
        "\n",
        "print(x4, y4)"
      ],
      "metadata": {
        "id": "avp-FAd554k5",
        "colab": {
          "base_uri": "https://localhost:8080/"
        },
        "outputId": "36228229-d4e3-4cc4-823d-289484d86a79"
      },
      "execution_count": 39,
      "outputs": [
        {
          "output_type": "stream",
          "name": "stdout",
          "text": [
            "5 5\n",
            "7 7\n",
            "7 5\n",
            "5 7\n"
          ]
        }
      ]
    },
    {
      "cell_type": "code",
      "source": [
        "x_nums = []\n",
        "y_nums = []\n",
        "for _ in range(3):\n",
        "    x, y = map(int, input().split())\n",
        "    x_nums.append(x)\n",
        "    y_nums.append(y)\n",
        "\n",
        "for i in range(3):\n",
        "    if x_nums.count(x_nums[i]) == 1:\n",
        "        x4 = x_nums[i]\n",
        "    if y_nums.count(y_nums[i]) == 1:\n",
        "        y4 = y_nums[i]\n",
        "print(x4, y4)"
      ],
      "metadata": {
        "colab": {
          "base_uri": "https://localhost:8080/"
        },
        "id": "9Am8ajkL4mc9",
        "outputId": "e13aabd3-d8b8-4a71-b3fd-eb95a0243e14"
      },
      "execution_count": 40,
      "outputs": [
        {
          "output_type": "stream",
          "name": "stdout",
          "text": [
            "5 5\n",
            "7 7\n",
            "7 5\n",
            "5 7\n"
          ]
        }
      ]
    },
    {
      "cell_type": "markdown",
      "source": [
        "#9번"
      ],
      "metadata": {
        "id": "lwks_dYE599H"
      }
    },
    {
      "cell_type": "code",
      "source": [
        "while True:\n",
        "  number = list(map(int, input().split()))\n",
        "  if number[0]==0 and number[1]==0 and number[2]==0:\n",
        "    break\n",
        "  max_number = max(number)\n",
        "  number.remove(max(number))\n",
        "  if number[0]**2 + number[1]**2 == max_number**2:\n",
        "        print('right')\n",
        "  else:\n",
        "    print('wrong')"
      ],
      "metadata": {
        "id": "XDh6IkQT5_uO",
        "colab": {
          "base_uri": "https://localhost:8080/"
        },
        "outputId": "0be000c8-5f85-4c43-f6e3-981465d31810"
      },
      "execution_count": 57,
      "outputs": [
        {
          "name": "stdout",
          "output_type": "stream",
          "text": [
            "6 8 10\n",
            "right\n",
            "25 52 6\n",
            "wrong\n",
            "0 0 0\n"
          ]
        }
      ]
    },
    {
      "cell_type": "markdown",
      "source": [
        "#10번"
      ],
      "metadata": {
        "id": "0OYPRHmm6BNO"
      }
    },
    {
      "cell_type": "code",
      "source": [
        "r = int(input())\n",
        "print(f'{r*r*3.14159265358979323:.6f}') #유클리드 공식 : 원주율 * 반지름 * 반지름\n",
        "print(f'{2*r*r:.6f}') #택시기하학 공식 : 2 * 반지름 * 반지름"
      ],
      "metadata": {
        "id": "DDMYhpRe6CgE",
        "colab": {
          "base_uri": "https://localhost:8080/"
        },
        "outputId": "88941fc1-ac9d-4146-c76c-52530b301597"
      },
      "execution_count": 60,
      "outputs": [
        {
          "output_type": "stream",
          "name": "stdout",
          "text": [
            "1\n",
            "3.141593\n",
            "2.000000\n"
          ]
        }
      ]
    },
    {
      "cell_type": "markdown",
      "source": [
        "#11번"
      ],
      "metadata": {
        "id": "-ENex1t36Cz_"
      }
    },
    {
      "cell_type": "code",
      "source": [
        "test_case = int(input())\n",
        "for _ in range(len(test_case)):\n",
        "  position = list(map(int, input().input()))"
      ],
      "metadata": {
        "id": "majkyonv6EQj"
      },
      "execution_count": null,
      "outputs": []
    }
  ]
}