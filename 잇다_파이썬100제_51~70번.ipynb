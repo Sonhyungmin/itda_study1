{
  "nbformat": 4,
  "nbformat_minor": 0,
  "metadata": {
    "colab": {
      "name": "잇다_파이썬100제 51~70번",
      "provenance": [],
      "authorship_tag": "ABX9TyMKubnyq0q7PBo2RbsMdDrb",
      "include_colab_link": true
    },
    "kernelspec": {
      "name": "python3",
      "display_name": "Python 3"
    },
    "language_info": {
      "name": "python"
    }
  },
  "cells": [
    {
      "cell_type": "markdown",
      "metadata": {
        "id": "view-in-github",
        "colab_type": "text"
      },
      "source": [
        "<a href=\"https://colab.research.google.com/github/Sonhyungmin/itda_study1/blob/main/%EC%9E%87%EB%8B%A4_%ED%8C%8C%EC%9D%B4%EC%8D%AC100%EC%A0%9C_51~70%EB%B2%88.ipynb\" target=\"_parent\"><img src=\"https://colab.research.google.com/assets/colab-badge.svg\" alt=\"Open In Colab\"/></a>"
      ]
    },
    {
      "cell_type": "markdown",
      "metadata": {
        "id": "ROrpCj2vm_UD"
      },
      "source": [
        "#51번"
      ]
    },
    {
      "cell_type": "code",
      "metadata": {
        "colab": {
          "base_uri": "https://localhost:8080/"
        },
        "id": "P6oDtQFEnkfd",
        "outputId": "065faeb7-4ca9-4f94-cb93-8293d16dd0f4"
      },
      "source": [
        "#병합 정렬\n",
        "def 병합정렬(입력리스트):\n",
        "    입력리스트길이 = len(입력리스트)\n",
        "    if 입력리스트길이 <= 1:\n",
        "        return 입력리스트\n",
        "    중간값 = 입력리스트길이 // 2\n",
        "    그룹_하나 = 병합정렬(입력리스트[:중간값])\n",
        "    그룹_둘 = 병합정렬(입력리스트[중간값:])\n",
        "    결과값 = []\n",
        "\n",
        "    while 그룹_하나 and 그룹_둘 :\n",
        "        if 그룹_하나[0]<그룹_둘[0]:\n",
        "            결과값.append(그룹_하나.pop(0))\n",
        "        else:\n",
        "            결과값.append(그룹_둘.pop(0))\n",
        "\n",
        "    while 그룹_하나:\n",
        "        결과값.append(그룹_하나.pop(0))\n",
        "    while 그룹_둘:\n",
        "        결과값.append(그룹_둘.pop(0))\n",
        "    return 결과값\n",
        "\n",
        "주어진리스트 = input().split()\n",
        "주어진리스트 = [int(i) for i in 주어진리스트]\n",
        "\n",
        "print(병합정렬(주어진리스트))"
      ],
      "execution_count": null,
      "outputs": [
        {
          "output_type": "stream",
          "name": "stdout",
          "text": [
            "11 48 2 14 59 3 69 54\n",
            "[2, 3, 11, 14, 48, 54, 59, 69]\n"
          ]
        }
      ]
    },
    {
      "cell_type": "markdown",
      "metadata": {
        "id": "gbPi9PzCm_il"
      },
      "source": [
        "#52번"
      ]
    },
    {
      "cell_type": "code",
      "metadata": {
        "colab": {
          "base_uri": "https://localhost:8080/"
        },
        "id": "289YisyIrBdz",
        "outputId": "c3cff265-dd72-4459-d90f-08181810b1d8"
      },
      "source": [
        "def 퀵정렬(입력리스트):\n",
        "    입력리스트의길이 = len(입력리스트)\n",
        "    if 입력리스트의길이 <= 1:\n",
        "        return 입력리스트\n",
        "    기준값 = 입력리스트.pop(입력리스트의길이//2)\n",
        "    그룹_하나 = []\n",
        "    그룹_둘 = []\n",
        "    \n",
        "    for i in range(입력리스트의길이-1):\n",
        "        if 입력리스트[i] < 기준값:\n",
        "            그룹_하나.append(입력리스트[i])\n",
        "        else:\n",
        "            그룹_둘.append(입력리스트[i])\n",
        "    return 퀵정렬(그룹_하나) + [기준값] + 퀵정렬(그룹_둘)\n",
        "\n",
        "주어진리스트 = input().split()\n",
        "주어진리스트 = [int(i) for i in 주어진리스트]\n",
        "\n",
        "print(퀵정렬(주어진리스트))"
      ],
      "execution_count": null,
      "outputs": [
        {
          "output_type": "stream",
          "name": "stdout",
          "text": [
            "51 2 13 10 4\n",
            "[2, 4, 10, 13, 51]\n"
          ]
        }
      ]
    },
    {
      "cell_type": "markdown",
      "metadata": {
        "id": "9aaEVCrRm_mi"
      },
      "source": [
        "#53번"
      ]
    },
    {
      "cell_type": "code",
      "metadata": {
        "colab": {
          "base_uri": "https://localhost:8080/"
        },
        "id": "yEjNcdFXsxJc",
        "outputId": "ae36749d-5e9c-4be0-f6cc-e7f10a471259"
      },
      "source": [
        ""
      ],
      "execution_count": null,
      "outputs": [
        {
          "output_type": "stream",
          "name": "stdout",
          "text": [
            "NO\n"
          ]
        }
      ]
    },
    {
      "cell_type": "code",
      "metadata": {
        "id": "sdy5e3rEstOX"
      },
      "source": [
        ""
      ],
      "execution_count": null,
      "outputs": []
    },
    {
      "cell_type": "markdown",
      "metadata": {
        "id": "P6aBp8SPm_p5"
      },
      "source": [
        "#54번"
      ]
    },
    {
      "cell_type": "code",
      "metadata": {
        "colab": {
          "base_uri": "https://localhost:8080/"
        },
        "id": "dVm_cY4evT76",
        "outputId": "3e8c9efd-b30f-485d-fda1-7b2a24b1e397"
      },
      "source": [
        "inputList = list(map(int, input().split()))\n",
        "count = 0\n",
        "sortList = sorted(inputList)\n",
        "\n",
        "for i in range(len(sortList)-1) :\n",
        "    if 1 == abs(sortList[i]-sortList[i+1]) :\n",
        "        count+=1\n",
        "        continue\n",
        "    else :\n",
        "        count = 0\n",
        "        print('NO')\n",
        "        break\n",
        "\n",
        "\n",
        "if count > 0 :\n",
        "    print('YES')"
      ],
      "execution_count": null,
      "outputs": [
        {
          "output_type": "stream",
          "name": "stdout",
          "text": [
            "1 4 2 6 3\n",
            "NO\n"
          ]
        }
      ]
    },
    {
      "cell_type": "markdown",
      "metadata": {
        "id": "Q_GlgLr0m_xI"
      },
      "source": [
        "#55번"
      ]
    },
    {
      "cell_type": "code",
      "metadata": {
        "colab": {
          "base_uri": "https://localhost:8080/"
        },
        "id": "6WnhO58u0owS",
        "outputId": "ca0f271a-1c37-402f-ff88-b6649edf66ef"
      },
      "source": [
        "원판의이동경로 = []\n",
        "def 하노이(원반의수, 시작기둥, 목표기둥, 보조기둥):\n",
        "    #원판이 한개일 때에는 옮기면 됩니다.\n",
        "    if 원반의수 == 1:\n",
        "        원판의이동경로.append([시작기둥, 목표기둥]) \n",
        "        return None\n",
        "    #원반의 n-1개를 경유기둥으로 옮기고\n",
        "    하노이(원반의수 - 1, 시작기둥, 보조기둥, 목표기둥)\n",
        "    #가장 큰 원반은 목표기둥으로\n",
        "    원판의이동경로.append([시작기둥, 목표기둥]) \n",
        "    #경유기둥과 시작기둥을 바꿉니다!\n",
        "    하노이(원반의수-1, 보조기둥, 목표기둥, 시작기둥)\n",
        "\n",
        "user_input = int(input())\n",
        "하노이(user_input,'A','C','B')\n",
        "\n",
        "print(len(원판의이동경로))"
      ],
      "execution_count": null,
      "outputs": [
        {
          "output_type": "stream",
          "name": "stdout",
          "text": [
            "7\n",
            "127\n"
          ]
        }
      ]
    },
    {
      "cell_type": "markdown",
      "metadata": {
        "id": "TauY6XcAm_tB"
      },
      "source": [
        "#56번"
      ]
    },
    {
      "cell_type": "code",
      "metadata": {
        "colab": {
          "base_uri": "https://localhost:8080/"
        },
        "id": "OiSwI2sM1nbB",
        "outputId": "b5d5eccc-6395-4de2-eca8-b791bca02162"
      },
      "source": [
        "nationWidth = {\n",
        "\t'korea': 220877, \n",
        "\t'Rusia': 17098242, \n",
        "\t'China': 9596961, \n",
        "\t'France': 543965, \n",
        "\t'Japan': 377915,\n",
        "\t'England' : 242900,\n",
        "}\n",
        "\n",
        "p = nationWidth['korea']\n",
        "nationWidth.pop('korea')\n",
        "nation = list(nationWidth.items())\n",
        "num = max(nationWidth.values())\n",
        "main = []\n",
        "\n",
        "for i in nation:\n",
        "    if num > abs(i[1] - w):\n",
        "        num = abs(i[1] - w)\n",
        "        main = i\n",
        "print(main[0],main[1]-220877)\n",
        "\n"
      ],
      "execution_count": null,
      "outputs": [
        {
          "output_type": "stream",
          "name": "stdout",
          "text": [
            "England 22023\n"
          ]
        }
      ]
    },
    {
      "cell_type": "markdown",
      "metadata": {
        "id": "msJD1B-LnKB4"
      },
      "source": [
        "#57번"
      ]
    },
    {
      "cell_type": "code",
      "metadata": {
        "colab": {
          "base_uri": "https://localhost:8080/"
        },
        "id": "v5izgMeJtNq3",
        "outputId": "e3ff5b65-9e05-478a-c959-135aed2dff11"
      },
      "source": [
        "n = 0  # 1의 개수를 저장할 변수인 n을 0으로 정의하기\n",
        "for i in range(1001): # 0부터 1000까지 1의 개수를 세야하는 프로그램이므로 반복문 사용\n",
        "    n = n + str(i).count('1') #1의 개수를 세야하므로 .count()함수 사용\n",
        "    \n",
        "print(n)"
      ],
      "execution_count": null,
      "outputs": [
        {
          "output_type": "stream",
          "name": "stdout",
          "text": [
            "301\n"
          ]
        }
      ]
    },
    {
      "cell_type": "markdown",
      "metadata": {
        "id": "lma6JD53nJpq"
      },
      "source": [
        "#58번"
      ]
    },
    {
      "cell_type": "code",
      "metadata": {
        "colab": {
          "base_uri": "https://localhost:8080/"
        },
        "id": "NnP7nRe1tQ8t",
        "outputId": "c053db94-8d55-4e88-b098-5cac806c4614"
      },
      "source": [
        "num = int(input(\"숫자를 입력하세요: \"))\n",
        "print('{:,}'.format(num))"
      ],
      "execution_count": null,
      "outputs": [
        {
          "output_type": "stream",
          "name": "stdout",
          "text": [
            "숫자를 입력하세요: 185771\n",
            "185,771\n"
          ]
        }
      ]
    },
    {
      "cell_type": "markdown",
      "metadata": {
        "id": "7Hj3w8FcnJ0Z"
      },
      "source": [
        "#59번"
      ]
    },
    {
      "cell_type": "code",
      "metadata": {
        "colab": {
          "base_uri": "https://localhost:8080/"
        },
        "id": "r3OxjxaMtev6",
        "outputId": "b304ddb1-7e4d-4ec5-d6a2-ff7609699c1b"
      },
      "source": [
        "print('{0:=^50s}'.format(input())) ## 50자리를 확보하고 입력받은 문자열을 가운데정렬"
      ],
      "execution_count": null,
      "outputs": [
        {
          "output_type": "stream",
          "name": "stdout",
          "text": [
            "hi\n",
            "========================hi========================\n"
          ]
        }
      ]
    },
    {
      "cell_type": "markdown",
      "metadata": {
        "id": "ppdzAmD5nPPr"
      },
      "source": [
        "#60번\n"
      ]
    },
    {
      "cell_type": "code",
      "metadata": {
        "colab": {
          "base_uri": "https://localhost:8080/"
        },
        "id": "i4m0XIZStjpE",
        "outputId": "09cf68ec-d8fd-44f7-b603-2593fe418df9"
      },
      "source": [
        "student = ['강은지','김유정','박현서','최성훈','홍유진','박지호','권윤일','김채리','한지호','김진이','김민호','강채연']\n",
        "student.sort()\n",
        "for i, student in enumerate(student): ##enumerate()함수를 사용하여 반복문 사용 시 몇 번째 반복문인지 확인 \n",
        "  print(\"번호: {}, 이름: {}\".format(i+1, student))"
      ],
      "execution_count": null,
      "outputs": [
        {
          "output_type": "stream",
          "name": "stdout",
          "text": [
            "번호: 1, 이름: 강은지\n",
            "번호: 2, 이름: 강채연\n",
            "번호: 3, 이름: 권윤일\n",
            "번호: 4, 이름: 김민호\n",
            "번호: 5, 이름: 김유정\n",
            "번호: 6, 이름: 김진이\n",
            "번호: 7, 이름: 김채리\n",
            "번호: 8, 이름: 박지호\n",
            "번호: 9, 이름: 박현서\n",
            "번호: 10, 이름: 최성훈\n",
            "번호: 11, 이름: 한지호\n",
            "번호: 12, 이름: 홍유진\n"
          ]
        }
      ]
    },
    {
      "cell_type": "markdown",
      "metadata": {
        "id": "JW97ajpim5Wa"
      },
      "source": [
        "#61번\n"
      ]
    },
    {
      "cell_type": "code",
      "metadata": {
        "colab": {
          "base_uri": "https://localhost:8080/"
        },
        "id": "FFD76HP4VgZQ",
        "outputId": "94145536-0d90-4fb9-d772-2eb3391e0a5a"
      },
      "source": [
        "sentence = input() ## 문자열 입력받기\n",
        "result = sentence[0] ## result에 0번째 문자를 저장함\n",
        "count = 0 \n",
        "\n",
        "for st in sentence:\n",
        "  if st == result[-1]:\n",
        "    count += 1\n",
        "\n",
        "  else:\n",
        "    result += str(count) + st\n",
        "    count = 1\n",
        "result += str(count)\n",
        "print(result)"
      ],
      "execution_count": null,
      "outputs": [
        {
          "output_type": "stream",
          "name": "stdout",
          "text": [
            "asdddaa\n",
            "a1s1d3a2\n"
          ]
        }
      ]
    },
    {
      "cell_type": "markdown",
      "metadata": {
        "id": "_5KD1PEMnTYg"
      },
      "source": [
        "#62번"
      ]
    },
    {
      "cell_type": "code",
      "metadata": {
        "colab": {
          "base_uri": "https://localhost:8080/"
        },
        "id": "jZ6rWc4Bm4xp",
        "outputId": "5e3368bb-8b24-4952-c947-28bddedb5b99"
      },
      "source": [
        "n = 'aadfffffffffhhhhhhhhhjjkkk'\n",
        "a = n.count('a')\n",
        "s = n.count('s')\n",
        "d = n.count('d')\n",
        "f = n.count('f')\n",
        "g = n.count('g')\n",
        "h = n.count('h')\n",
        "j = n.count('j')\n",
        "k = n.count('k')\n",
        "print(str(int(a))+str(int(s))+str(int(d))+str(int(f))+str(int(g))+str(int(h))+str(int(j))+str(int(k)))"
      ],
      "execution_count": null,
      "outputs": [
        {
          "output_type": "stream",
          "name": "stdout",
          "text": [
            "20190923\n"
          ]
        }
      ]
    },
    {
      "cell_type": "markdown",
      "metadata": {
        "id": "7ud7TqudnVam"
      },
      "source": [
        "#63번"
      ]
    },
    {
      "cell_type": "code",
      "metadata": {
        "id": "Q_nMXpuAVdI_",
        "colab": {
          "base_uri": "https://localhost:8080/"
        },
        "outputId": "70ea7731-24da-491c-b385-7a2d074dcbcc"
      },
      "source": [
        "a =input().split()\n",
        "n =''\n",
        "for i in a:\n",
        "  n += i[0]\n",
        "print(n)"
      ],
      "execution_count": null,
      "outputs": [
        {
          "output_type": "stream",
          "name": "stdout",
          "text": [
            "복잡한 세상\n",
            "복세\n"
          ]
        }
      ]
    },
    {
      "cell_type": "markdown",
      "metadata": {
        "id": "k2n0r1LNnYuO"
      },
      "source": [
        "#64번"
      ]
    },
    {
      "cell_type": "code",
      "metadata": {
        "colab": {
          "base_uri": "https://localhost:8080/"
        },
        "id": "fxFfNFPynaxE",
        "outputId": "b8d5b850-4fcc-49a4-aaca-7080ab69e0bf"
      },
      "source": [
        "N = int(input())\n",
        "result = 0\n",
        "\n",
        "while True: ## while True 딱히 조건 없이 계속 참이라는 뜻\n",
        "    if N%7 ==0:\n",
        "        result += N//7\n",
        "        print(result)\n",
        "        break\n",
        "    N -= 3\n",
        "    result += 1\n",
        "    if N < 0:\n",
        "        print(-1)\n",
        "        break"
      ],
      "execution_count": null,
      "outputs": [
        {
          "output_type": "stream",
          "name": "stdout",
          "text": [
            "24\n",
            "4\n"
          ]
        }
      ]
    },
    {
      "cell_type": "markdown",
      "metadata": {
        "id": "dnsH_x7DnaW4"
      },
      "source": [
        "#65번"
      ]
    },
    {
      "cell_type": "code",
      "metadata": {
        "id": "zUZZGesDoANj",
        "colab": {
          "base_uri": "https://localhost:8080/"
        },
        "outputId": "c8998499-8f60-4057-efa2-ea69f6b01241"
      },
      "source": [
        "a = input().split()\n",
        "b = input().split()\n",
        "c = []\n",
        "count = 0\n",
        "\n",
        "for i in range(len(a)):\n",
        "  if i % 2 == 0:\n",
        "    c.append([a[i], b[i]])\n",
        "  else:\n",
        "    c.append([b[i], a[i]])\n",
        "\n",
        "print(c)"
      ],
      "execution_count": null,
      "outputs": [
        {
          "output_type": "stream",
          "name": "stdout",
          "text": [
            "1 2 3 4 \n",
            "q w e r\n",
            "[['1', 'q'], ['w', '2'], ['3', 'e'], ['r', '4']]\n"
          ]
        }
      ]
    },
    {
      "cell_type": "markdown",
      "metadata": {
        "id": "8FfT7gcdnc4D"
      },
      "source": [
        "#66번"
      ]
    },
    {
      "cell_type": "code",
      "metadata": {
        "id": "4c5mjZ1voAQw"
      },
      "source": [
        "탑 = [\"ABCDEF\", \"BCAD\", \"ADEFQRX\", \"BEDFG\"]\n",
        "규칙 = \"ABD\"\n",
        "\n",
        "def x(탑, 규칙):\n",
        "  "
      ],
      "execution_count": null,
      "outputs": []
    },
    {
      "cell_type": "markdown",
      "metadata": {
        "id": "erQK8KbUnete"
      },
      "source": [
        "#67번"
      ]
    },
    {
      "cell_type": "code",
      "metadata": {
        "id": "4ACi5rzDoAUs",
        "colab": {
          "base_uri": "https://localhost:8080/"
        },
        "outputId": "2544db14-5c41-462c-aa22-acd54e42a580"
      },
      "source": [
        "n= 59\n",
        "count = 0\n",
        "p = 0\n",
        "answer = []\n",
        "while True :\n",
        "    a = p* (p+1) // 2\n",
        "    p+=1\n",
        "    if n< a :\n",
        "        break\n",
        "        \n",
        "count = n - (p-2)*(p-1)//2\n",
        "print(count,p)"
      ],
      "execution_count": null,
      "outputs": [
        {
          "output_type": "stream",
          "name": "stdout",
          "text": [
            "4 12\n"
          ]
        }
      ]
    },
    {
      "cell_type": "markdown",
      "metadata": {
        "id": "1G3UcDjinfpy"
      },
      "source": [
        "#68번"
      ]
    },
    {
      "cell_type": "code",
      "metadata": {
        "id": "mx0BySNvoAYK"
      },
      "source": [
        ""
      ],
      "execution_count": null,
      "outputs": []
    },
    {
      "cell_type": "markdown",
      "metadata": {
        "id": "DHRI1ofmng9C"
      },
      "source": [
        "#69번"
      ]
    },
    {
      "cell_type": "code",
      "metadata": {
        "id": "g_TKVKJboAb9"
      },
      "source": [
        ""
      ],
      "execution_count": null,
      "outputs": []
    },
    {
      "cell_type": "markdown",
      "metadata": {
        "id": "oSYWgKIGniAU"
      },
      "source": [
        "#70번\n"
      ]
    },
    {
      "cell_type": "code",
      "metadata": {
        "id": "Uu9yAV0CoAff"
      },
      "source": [
        ""
      ],
      "execution_count": null,
      "outputs": []
    }
  ]
}