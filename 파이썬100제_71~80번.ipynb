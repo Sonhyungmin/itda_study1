{
  "nbformat": 4,
  "nbformat_minor": 0,
  "metadata": {
    "colab": {
      "name": "파이썬100제 71~80번",
      "provenance": [],
      "authorship_tag": "ABX9TyPVF8Wpht9LDvD8Yh+1XNv+",
      "include_colab_link": true
    },
    "kernelspec": {
      "name": "python3",
      "display_name": "Python 3"
    },
    "language_info": {
      "name": "python"
    }
  },
  "cells": [
    {
      "cell_type": "markdown",
      "metadata": {
        "id": "view-in-github",
        "colab_type": "text"
      },
      "source": [
        "<a href=\"https://colab.research.google.com/github/Sonhyungmin/itda_study1/blob/main/%ED%8C%8C%EC%9D%B4%EC%8D%AC100%EC%A0%9C_71~80%EB%B2%88.ipynb\" target=\"_parent\"><img src=\"https://colab.research.google.com/assets/colab-badge.svg\" alt=\"Open In Colab\"/></a>"
      ]
    },
    {
      "cell_type": "markdown",
      "metadata": {
        "id": "lRiS9-3gUDms"
      },
      "source": [
        "# 71번"
      ]
    },
    {
      "cell_type": "code",
      "metadata": {
        "id": "--Us0tj8UAgL",
        "colab": {
          "base_uri": "https://localhost:8080/",
          "height": 137
        },
        "outputId": "5b3a6fa7-4f42-41a1-f3bd-544424a1fb63"
      },
      "source": [
        "graph = {\n",
        "        'A': set(['B', 'C', 'E']),\n",
        "        'B': set(['A']),\n",
        "        'C': set(['A']),\n",
        "        'D': set(['E', 'F']),\n",
        "        'E': set(['A', 'D']),\n",
        "        'F': set(['D'])\n",
        "}\n",
        "\n",
        "def dfs(graph, start):\n",
        "    visited = []\n",
        "    stack = [start]\n",
        "\n",
        "    while stack:\n",
        "        n = stack.pop()\n",
        "        if n not in visited:\n",
        "            visited.append(n)\n",
        "            stack += graph[n] - set(visited)\n",
        "    return visited\n",
        "\n",
        "print(dfs(graph, 'E'))\n",
        "\n",
        "#tree 풀이\n",
        "\n",
        "tree = {\n",
        "        'A': ['B', 'C', 'E'],\n",
        "        'B': ['A'],\n",
        "        'C': ['A'],\n",
        "        'D': ['E', 'F'],\n",
        "        'E': ['A', 'D'],\n",
        "        'F': ['D']\n",
        "}\n",
        "\n",
        "def dfs(data, start):\n",
        "    visited = []\n",
        "    stack = [start]\n",
        "\n",
        "    **pass**\n",
        "\n",
        "    return visited\n",
        "\n",
        "print(dfs(tree, 'E'))"
      ],
      "execution_count": 2,
      "outputs": [
        {
          "output_type": "error",
          "ename": "SyntaxError",
          "evalue": "ignored",
          "traceback": [
            "\u001b[0;36m  File \u001b[0;32m\"<ipython-input-2-46fcb0e07cf9>\"\u001b[0;36m, line \u001b[0;32m38\u001b[0m\n\u001b[0;31m    **pass**\u001b[0m\n\u001b[0m     ^\u001b[0m\n\u001b[0;31mSyntaxError\u001b[0m\u001b[0;31m:\u001b[0m invalid syntax\n"
          ]
        }
      ]
    },
    {
      "cell_type": "markdown",
      "metadata": {
        "id": "Esl7d__5UE-C"
      },
      "source": [
        "#72번"
      ]
    },
    {
      "cell_type": "code",
      "metadata": {
        "colab": {
          "base_uri": "https://localhost:8080/"
        },
        "id": "UzhSlhy-sjyA",
        "outputId": "60c78acb-66f9-49f2-d590-9fc1547d22c0"
      },
      "source": [
        "graph = {\n",
        "        'A': set(['B', 'C', 'E']),\n",
        "        'B': set(['A']),\n",
        "        'C': set(['A']),\n",
        "        'D': set(['E', 'F']),\n",
        "        'E': set(['A', 'D']),\n",
        "        'F': set(['D'])\n",
        "}\n",
        "\n",
        "def bfs(graph, start):\n",
        "    visited = []\n",
        "    queue = [start]\n",
        "\n",
        "    while queue:\n",
        "        n = queue.pop(0)\n",
        "        if n not in visited:\n",
        "            visited.append(n)\n",
        "            queue += graph[n] - set(visited)\n",
        "    return visited\n",
        "\n",
        "print(bfs(graph, 'E'))"
      ],
      "execution_count": 3,
      "outputs": [
        {
          "output_type": "stream",
          "name": "stdout",
          "text": [
            "['E', 'D', 'A', 'F', 'B', 'C']\n"
          ]
        }
      ]
    },
    {
      "cell_type": "markdown",
      "metadata": {
        "id": "EWAczhM7UGYO"
      },
      "source": [
        "#73번"
      ]
    },
    {
      "cell_type": "code",
      "metadata": {
        "colab": {
          "base_uri": "https://localhost:8080/"
        },
        "id": "7m_FTF0Jsqhr",
        "outputId": "2ce0cea5-c574-4cea-b7ce-f3a6e4e98a98"
      },
      "source": [
        "graph = {'A': set(['B', 'C']),\n",
        "         'B': set(['A', 'D', 'E']),\n",
        "         'C': set(['A', 'F']),\n",
        "         'D': set(['B']),\n",
        "         'E': set(['B', 'F']),\n",
        "         'F': set(['C', 'E'])}\n",
        "\n",
        "start, end = [i for i in input().split()]\n",
        "    \n",
        "queue = [start]\n",
        "visited = [start]\n",
        "    \n",
        "def solution():\n",
        "    count = -1\n",
        "\n",
        "    while len(queue)!=0:\n",
        "        count += 1\n",
        "        size = len(queue)\n",
        "\n",
        "        for i in range(size):\n",
        "            node = queue.pop(0)\n",
        "            if node == end:\n",
        "                return count\n",
        "\n",
        "            for next_node in graph[node]:\n",
        "                if next_node not in visited:\n",
        "                    visited.append(next_node)\n",
        "                    queue.append(next_node)\n",
        "\n",
        "print(solution())"
      ],
      "execution_count": 4,
      "outputs": [
        {
          "output_type": "stream",
          "name": "stdout",
          "text": [
            "A F\n",
            "2\n"
          ]
        }
      ]
    },
    {
      "cell_type": "markdown",
      "metadata": {
        "id": "6hRl4ED-UIXw"
      },
      "source": [
        "#74번"
      ]
    },
    {
      "cell_type": "code",
      "metadata": {
        "colab": {
          "base_uri": "https://localhost:8080/"
        },
        "id": "mazFnYdes2Ve",
        "outputId": "c3140a08-a1ba-4e20-8bdd-4c5ce407c352"
      },
      "source": [
        "graph = {1: [2, 3, 4],\n",
        "\t\t\t\t 2: [1, 3, 4, 5, 6],\n",
        "\t\t\t\t 3: [1, 2, 7],\n",
        "\t\t\t\t 4: [1, 2, 5, 6],\n",
        "\t\t\t\t 5: [2, 4, 6, 7],\n",
        "\t\t\t\t 6: [2, 4, 5, 7],\n",
        "\t\t\t\t 7: [3, 5, 6]} \n",
        "\n",
        "start, end = [int(i) for i in input().split()]\n",
        "queue = [start]\n",
        "visited = []\n",
        "\n",
        "def sol(n, visited):\n",
        "\tif n[-1] == end:\n",
        "\t\treturn len(visited)\n",
        "\t\n",
        "\tif n[-1] in visited:\n",
        "\t\treturn len(visited)\n",
        "\t\n",
        "\tvisited.append(n[-1])\n",
        "\tlength = 0\n",
        "\t\n",
        "\tfor next_node in graph[n[-1]]:\n",
        "\t\tn.append(next_node)\n",
        "\t\tlength = max(length, sol(n, visited))\n",
        "\t\tqueue.pop(-1)\n",
        "\treturn length\n",
        "\n",
        "print(sol(queue, visited))"
      ],
      "execution_count": 5,
      "outputs": [
        {
          "output_type": "stream",
          "name": "stdout",
          "text": [
            "1 7\n",
            "6\n"
          ]
        }
      ]
    },
    {
      "cell_type": "markdown",
      "metadata": {
        "id": "LpLGxjWcUJnn"
      },
      "source": [
        "#75번"
      ]
    },
    {
      "cell_type": "code",
      "metadata": {
        "id": "y7QPnmhXs2sJ"
      },
      "source": [
        "def sol(n):\n",
        "    n = list(str(n))\n",
        "    answer = 0\n",
        "    count = 1\n",
        "    d = {3 : 1, 6 : 2, 9 : 3}\n",
        "    \n",
        "    while n:\n",
        "        answer += d[int(n.pop())] * count\n",
        "        count *= 3\n",
        "        \n",
        "    return answer"
      ],
      "execution_count": 7,
      "outputs": []
    },
    {
      "cell_type": "markdown",
      "metadata": {
        "id": "OBbIR_OmULK7"
      },
      "source": [
        "#76번"
      ]
    },
    {
      "cell_type": "code",
      "metadata": {
        "colab": {
          "base_uri": "https://localhost:8080/"
        },
        "id": "EjlV0RRzItA6",
        "outputId": "bf5e815c-41bb-4546-c70e-f6f8f25fcea1"
      },
      "source": [
        "import numpy as np\n",
        "\n",
        "mineField = [[1,0,0,1,0],\n",
        "             [0,1,0,0,1],\n",
        "             [0,0,0,1,0],\n",
        "             [0,0,0,0,0],\n",
        "             [0,0,1,0,0]]\n",
        "fieldSize = 5\n",
        "fieldFind = 3\n",
        "sum = 0\n",
        "\n",
        "mineField = np.array(mineField,int)\n",
        "\n",
        "\n",
        "for i in range(fieldSize-fieldFind+1) :\n",
        "    for j in range(fieldSize-fieldFind+1) :\n",
        "        v = mineField[0+i:3+i,0+j:3+j]\n",
        "\n",
        "        count = v.sum()\n",
        "\n",
        "        if sum < count :\n",
        "            sum = count\n",
        "print(sum)\n"
      ],
      "execution_count": 9,
      "outputs": [
        {
          "output_type": "stream",
          "name": "stdout",
          "text": [
            "3\n"
          ]
        }
      ]
    },
    {
      "cell_type": "markdown",
      "metadata": {
        "id": "8Bj8zGH3UMmh"
      },
      "source": [
        "#77번"
      ]
    },
    {
      "cell_type": "code",
      "metadata": {
        "colab": {
          "base_uri": "https://localhost:8080/"
        },
        "id": "RtouwMqDQFee",
        "outputId": "637a5ed0-bf01-43da-f5f1-262a4bd67ef3"
      },
      "source": [
        "def sol(strings):\n",
        "    result = []\n",
        "    for i in range(1,len(strings)+1):\n",
        "        for j in range(i):\n",
        "            result.append(strings[j:j+len(strings)-i+1])\n",
        "    return result\n",
        "\n",
        "input1 = input()\n",
        "input2 = input()\n",
        "#문자열 나열될 수 있는 모든 경우의수 만들기\n",
        "list1 = set(sol(input1))\n",
        "list2 = set(sol(input2))\n",
        "#경우의 수 교집합\n",
        "answers = list1.intersection(list2)\n",
        "# 가장 긴 교집합\n",
        "answer = max(answers,key=len)\n",
        "print(len(answer))"
      ],
      "execution_count": 10,
      "outputs": [
        {
          "output_type": "stream",
          "name": "stdout",
          "text": [
            "gjhaduuvkl\n",
            "ghaid\n",
            "2\n"
          ]
        }
      ]
    },
    {
      "cell_type": "markdown",
      "metadata": {
        "id": "QQn8GZA3UN5m"
      },
      "source": [
        "#78번"
      ]
    },
    {
      "cell_type": "code",
      "metadata": {
        "colab": {
          "base_uri": "https://localhost:8080/"
        },
        "id": "4i1N0nCXQO6Y",
        "outputId": "a2eb8a92-b343-4e41-b229-3040d4cd3e49"
      },
      "source": [
        "a = input().split(' ')\n",
        "n, k = a\n",
        "\n",
        "\n",
        "def sol(n, k):\n",
        "    i = 0\n",
        "    #q에 n만큼의 숫자를 넣어준다\n",
        "    q = [i for i in range(1,n+1)]\n",
        "\n",
        "    while len(q) > 2:\n",
        "        if i > len(q)-1:\n",
        "        #순환하다 i가 q의 길이보다 클 경우에 len(q)만큼 빼준다.\n",
        "        #[1,2,3,4,5,6] -> 1다음 4가 빠지고 그 다음은 4+3 = 7(index : 6)이 빠져야 하는데 \n",
        "        #i(현재 빠져야 할 index)가 len(q)보다 크므로 len(q)즉, 4를 빼준다. \n",
        "        #이걸 마지막 2개가 남을 때 까지 반복함\n",
        "            i -= len(q)\n",
        "        q.pop(i)\n",
        "        i += k\n",
        "        i -= 1\n",
        "    print(q)\n",
        "sol(int(n),int(k))"
      ],
      "execution_count": 15,
      "outputs": [
        {
          "output_type": "stream",
          "name": "stdout",
          "text": [
            "19 2\n",
            "[6, 14]\n"
          ]
        }
      ]
    },
    {
      "cell_type": "markdown",
      "metadata": {
        "id": "hxhjqZmUUPDk"
      },
      "source": [
        "#79번"
      ]
    },
    {
      "cell_type": "code",
      "metadata": {
        "colab": {
          "base_uri": "https://localhost:8080/"
        },
        "id": "S48jKg--aWVf",
        "outputId": "9d700c96-0e01-4dfa-8563-c7d2271f7fd7"
      },
      "source": [
        "def circuitList(list,n) :\n",
        "    # 리스트 얕은 복사\n",
        "    l = list[:]\n",
        "    for i in range(n) :\n",
        "        l.insert(0,l[-1])\n",
        "        del l[-1]\n",
        "    return l\n",
        "\n",
        "def distance(a,b) :\n",
        "    disList = []\n",
        "    for i in range(len(a)) :\n",
        "        disList.append(abs(a[i]-b[i]))\n",
        "    return disList\n",
        "\n",
        "n = 2\n",
        "lBefore = [10,20,25,27,34,35,39]\n",
        "lAfter = circuitList(lBefore,n)\n",
        "lminus = distance(lBefore,lAfter)\n",
        "\n",
        "idx = lminus.index(min(lminus))\n",
        "\n",
        "print(\"인덱스 : \",idx)\n",
        "print(\"값 : \" , lBefore[idx],lAfter[idx])\n"
      ],
      "execution_count": 17,
      "outputs": [
        {
          "output_type": "stream",
          "name": "stdout",
          "text": [
            "인덱스 :  6\n",
            "값 :  39 34\n"
          ]
        }
      ]
    },
    {
      "cell_type": "code",
      "metadata": {
        "colab": {
          "base_uri": "https://localhost:8080/",
          "height": 211
        },
        "id": "LXwZmGN6a2oG",
        "outputId": "d9dcaf3b-4f82-4ef1-e37b-d2dfcd4aa870"
      },
      "source": [
        "def sol(a, t):\n",
        "    b = a.copy()\n",
        "    c = []\n",
        "    for i in range(t):\n",
        "        b.insert(0,b.pop())\n",
        "    for i,j in zip(a,b):\n",
        "        c.append(abs(i-j))\n",
        "    index = c.index(min(c))\n",
        "    print(\"index :\",index)\n",
        "    print(\"value :\",a[index],b[index])\n",
        "\n",
        "sol(l,turn)"
      ],
      "execution_count": 18,
      "outputs": [
        {
          "output_type": "error",
          "ename": "NameError",
          "evalue": "ignored",
          "traceback": [
            "\u001b[0;31m---------------------------------------------------------------------------\u001b[0m",
            "\u001b[0;31mNameError\u001b[0m                                 Traceback (most recent call last)",
            "\u001b[0;32m<ipython-input-18-e8b0ab375d89>\u001b[0m in \u001b[0;36m<module>\u001b[0;34m()\u001b[0m\n\u001b[1;32m     10\u001b[0m     \u001b[0mprint\u001b[0m\u001b[0;34m(\u001b[0m\u001b[0;34m\"value :\"\u001b[0m\u001b[0;34m,\u001b[0m\u001b[0ma\u001b[0m\u001b[0;34m[\u001b[0m\u001b[0mindex\u001b[0m\u001b[0;34m]\u001b[0m\u001b[0;34m,\u001b[0m\u001b[0mb\u001b[0m\u001b[0;34m[\u001b[0m\u001b[0mindex\u001b[0m\u001b[0;34m]\u001b[0m\u001b[0;34m)\u001b[0m\u001b[0;34m\u001b[0m\u001b[0;34m\u001b[0m\u001b[0m\n\u001b[1;32m     11\u001b[0m \u001b[0;34m\u001b[0m\u001b[0m\n\u001b[0;32m---> 12\u001b[0;31m \u001b[0msol\u001b[0m\u001b[0;34m(\u001b[0m\u001b[0ml\u001b[0m\u001b[0;34m,\u001b[0m\u001b[0mturn\u001b[0m\u001b[0;34m)\u001b[0m\u001b[0;34m\u001b[0m\u001b[0;34m\u001b[0m\u001b[0m\n\u001b[0m",
            "\u001b[0;31mNameError\u001b[0m: name 'l' is not defined"
          ]
        }
      ]
    },
    {
      "cell_type": "markdown",
      "metadata": {
        "id": "ZoDJsGHuEh3Y"
      },
      "source": [
        "#80번"
      ]
    },
    {
      "cell_type": "code",
      "metadata": {
        "colab": {
          "base_uri": "https://localhost:8080/"
        },
        "id": "caq-WwDTbAIV",
        "outputId": "4a0d2e20-2f93-4ab7-d41a-5f490793070b"
      },
      "source": [
        "from itertools import permutations #이 문제에서는 안쓰지만 어떤 것인지 확인해보세요.\n",
        "from itertools import combinations\n",
        "\n",
        "import itertools\n",
        "\n",
        "user_input = input().split(',')\n",
        "user_input_int = int(input())\n",
        "\n",
        "#print(list(itertools.combinations(a, 3)))\n",
        "\n",
        "print(list(map(''.join, combinations(user_input, user_input_int))))"
      ],
      "execution_count": 20,
      "outputs": [
        {
          "output_type": "stream",
          "name": "stdout",
          "text": [
            "ㄱ, ㄴ, ㄷ, ㄹ\n",
            "3\n",
            "['ㄱ ㄴ ㄷ', 'ㄱ ㄴ ㄹ', 'ㄱ ㄷ ㄹ', ' ㄴ ㄷ ㄹ']\n"
          ]
        }
      ]
    }
  ]
}